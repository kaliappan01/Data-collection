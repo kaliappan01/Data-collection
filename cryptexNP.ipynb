{
  "nbformat": 4,
  "nbformat_minor": 0,
  "metadata": {
    "colab": {
      "name": "cryptexNP.ipynb",
      "provenance": [],
      "collapsed_sections": [],
      "authorship_tag": "ABX9TyPvtiI3Fj4lkJPsqV48MSi+",
      "include_colab_link": true
    },
    "kernelspec": {
      "name": "python3",
      "display_name": "Python 3"
    },
    "language_info": {
      "name": "python"
    }
  },
  "cells": [
    {
      "cell_type": "markdown",
      "metadata": {
        "id": "view-in-github",
        "colab_type": "text"
      },
      "source": [
        "<a href=\"https://colab.research.google.com/github/kaliappan01/Data-collection/blob/main/cryptexNP.ipynb\" target=\"_parent\"><img src=\"https://colab.research.google.com/assets/colab-badge.svg\" alt=\"Open In Colab\"/></a>"
      ]
    },
    {
      "cell_type": "markdown",
      "metadata": {
        "id": "v-53M9893VLC"
      },
      "source": [
        "# Data Preprocessing  \n",
        "Data preprocessing is a process of preparing the raw data and making it suitable for a machine learning model. It is the first and crucial step while creating a machine learning model."
      ]
    },
    {
      "cell_type": "markdown",
      "metadata": {
        "id": "PwiI1lq_amcd"
      },
      "source": [
        "\n",
        "\n",
        "#NUMPY\n",
        "\n",
        "*NumPy is the fundamental library for scientific computing with Python. NumPy is centered around a powerful N-dimensional array object, and it also contains useful linear algebra, Fourier transform, and random number functions.*\n"
      ]
    },
    {
      "cell_type": "markdown",
      "metadata": {
        "id": "p8mFaO2Gamcj"
      },
      "source": [
        "# Creating arrays"
      ]
    },
    {
      "cell_type": "code",
      "metadata": {
        "collapsed": true,
        "id": "hq8O-xt7amcm"
      },
      "source": [
        "import numpy as np"
      ],
      "execution_count": null,
      "outputs": []
    },
    {
      "cell_type": "markdown",
      "metadata": {
        "id": "fDjwon-hamcn"
      },
      "source": [
        "## `np.zeros`"
      ]
    },
    {
      "cell_type": "markdown",
      "metadata": {
        "id": "7rJGdpmTamco"
      },
      "source": [
        "The `zeros` function creates an array containing any number of zeros:"
      ]
    },
    {
      "cell_type": "code",
      "metadata": {
        "id": "X8Aeu5oRamcp",
        "colab": {
          "base_uri": "https://localhost:8080/"
        },
        "outputId": "6f568fd6-e985-491f-edc2-0e10e67192e5"
      },
      "source": [
        "np.zeros(5)"
      ],
      "execution_count": null,
      "outputs": [
        {
          "output_type": "execute_result",
          "data": {
            "text/plain": [
              "array([0., 0., 0., 0., 0.])"
            ]
          },
          "metadata": {},
          "execution_count": 152
        }
      ]
    },
    {
      "cell_type": "markdown",
      "metadata": {
        "id": "nPcBv1wqamcr"
      },
      "source": [
        "It's just as easy to create a 2D array (ie. a matrix) by providing a tuple with the desired number of rows and columns. For example, here's a 3x4 matrix:"
      ]
    },
    {
      "cell_type": "code",
      "metadata": {
        "id": "Lhb0BQ4Aamcs",
        "colab": {
          "base_uri": "https://localhost:8080/"
        },
        "outputId": "e2ae811b-c1ae-47d1-9b4a-f1293b35aef9"
      },
      "source": [
        "np.zeros((8,4))"
      ],
      "execution_count": null,
      "outputs": [
        {
          "output_type": "execute_result",
          "data": {
            "text/plain": [
              "array([[0., 0., 0., 0.],\n",
              "       [0., 0., 0., 0.],\n",
              "       [0., 0., 0., 0.],\n",
              "       [0., 0., 0., 0.],\n",
              "       [0., 0., 0., 0.],\n",
              "       [0., 0., 0., 0.],\n",
              "       [0., 0., 0., 0.],\n",
              "       [0., 0., 0., 0.]])"
            ]
          },
          "metadata": {},
          "execution_count": 153
        }
      ]
    },
    {
      "cell_type": "markdown",
      "metadata": {
        "id": "virlEwjVamcs"
      },
      "source": [
        "\n",
        "## Some Basic terms\n",
        "\n",
        "* In NumPy, each dimension is called an **axis**.\n",
        "* The number of axes is called the **rank**.\n",
        "    * For example, the above 3x4 matrix is an array of rank 2 (it is 2-dimensional).\n",
        "    * The first axis has length 3, the second has length 4.\n",
        "* An array's list of axis lengths is called the **shape** of the array.\n",
        "    * For example, the above matrix's shape is `(3, 4)`.\n",
        "    * The rank is equal to the shape's length.\n",
        "* The **size** of an array is the total number of elements, which is the product of all axis lengths (eg. 3*4=12)"
      ]
    },
    {
      "cell_type": "code",
      "metadata": {
        "id": "iLVkDaj6amct",
        "colab": {
          "base_uri": "https://localhost:8080/"
        },
        "outputId": "669a2285-ba58-4eea-a781-576640a22490"
      },
      "source": [
        "a = np.zeros((3,4))\n",
        "a"
      ],
      "execution_count": null,
      "outputs": [
        {
          "output_type": "execute_result",
          "data": {
            "text/plain": [
              "array([[0., 0., 0., 0.],\n",
              "       [0., 0., 0., 0.],\n",
              "       [0., 0., 0., 0.]])"
            ]
          },
          "metadata": {},
          "execution_count": 16
        }
      ]
    },
    {
      "cell_type": "code",
      "metadata": {
        "id": "4PpqCFZ4amct",
        "colab": {
          "base_uri": "https://localhost:8080/"
        },
        "outputId": "4e54bb28-8c30-433a-da1f-13825b95a71d"
      },
      "source": [
        "a.shape # another way of calling them np.shape(array_name)"
      ],
      "execution_count": null,
      "outputs": [
        {
          "output_type": "execute_result",
          "data": {
            "text/plain": [
              "(4, 4)"
            ]
          },
          "metadata": {},
          "execution_count": 158
        }
      ]
    },
    {
      "cell_type": "code",
      "metadata": {
        "id": "fZsXLjnZamcu",
        "colab": {
          "base_uri": "https://localhost:8080/"
        },
        "outputId": "2cd88408-0ee8-4345-f059-9a5e9a26524a"
      },
      "source": [
        "a.ndim  # equal to len(a.shape)"
      ],
      "execution_count": null,
      "outputs": [
        {
          "output_type": "execute_result",
          "data": {
            "text/plain": [
              "2"
            ]
          },
          "metadata": {},
          "execution_count": 18
        }
      ]
    },
    {
      "cell_type": "code",
      "metadata": {
        "id": "ZfKzf1Kwamcv",
        "colab": {
          "base_uri": "https://localhost:8080/"
        },
        "outputId": "ce610003-4152-4420-dbad-502ab27966bd"
      },
      "source": [
        "a.size"
      ],
      "execution_count": null,
      "outputs": [
        {
          "output_type": "execute_result",
          "data": {
            "text/plain": [
              "16"
            ]
          },
          "metadata": {},
          "execution_count": 159
        }
      ]
    },
    {
      "cell_type": "markdown",
      "metadata": {
        "id": "AS0z2a0ramcv"
      },
      "source": [
        "## N-dimensional arrays\n",
        "You can also create an N-dimensional array of arbitrary rank. For example, here's a 3D array (rank=3), with shape `(2,3,4)`:"
      ]
    },
    {
      "cell_type": "code",
      "metadata": {
        "id": "RgUpk7mkamcv",
        "colab": {
          "base_uri": "https://localhost:8080/"
        },
        "outputId": "afa901c7-1dec-48a5-faf8-9dac219eabf7"
      },
      "source": [
        "np.zeros((2,3,4))"
      ],
      "execution_count": null,
      "outputs": [
        {
          "output_type": "execute_result",
          "data": {
            "text/plain": [
              "array([[[0., 0., 0., 0.],\n",
              "        [0., 0., 0., 0.],\n",
              "        [0., 0., 0., 0.]],\n",
              "\n",
              "       [[0., 0., 0., 0.],\n",
              "        [0., 0., 0., 0.],\n",
              "        [0., 0., 0., 0.]]])"
            ]
          },
          "metadata": {},
          "execution_count": 20
        }
      ]
    },
    {
      "cell_type": "markdown",
      "metadata": {
        "id": "Rn5xLodTamcw"
      },
      "source": [
        "## Array type\n",
        "NumPy arrays have the type `ndarray`:"
      ]
    },
    {
      "cell_type": "code",
      "metadata": {
        "id": "N8CiPrnMamcw",
        "colab": {
          "base_uri": "https://localhost:8080/"
        },
        "outputId": "d6b36401-7209-4e4e-8b8c-293a406b6992"
      },
      "source": [
        "type(np.zeros((3,4)))"
      ],
      "execution_count": null,
      "outputs": [
        {
          "output_type": "execute_result",
          "data": {
            "text/plain": [
              "numpy.ndarray"
            ]
          },
          "metadata": {},
          "execution_count": 21
        }
      ]
    },
    {
      "cell_type": "markdown",
      "metadata": {
        "id": "xgrGWQyQamcw"
      },
      "source": [
        "## `np.ones`\n",
        "Many other NumPy functions create `ndarrays`.\n",
        "\n",
        "Here's a 3x4 matrix full of ones:"
      ]
    },
    {
      "cell_type": "code",
      "metadata": {
        "id": "SyvV9GZnamcx",
        "colab": {
          "base_uri": "https://localhost:8080/"
        },
        "outputId": "6b2f85f7-6929-4d09-b2c4-aa0437347171"
      },
      "source": [
        "np.ones((3,4))"
      ],
      "execution_count": null,
      "outputs": [
        {
          "output_type": "execute_result",
          "data": {
            "text/plain": [
              "array([[1., 1., 1., 1.],\n",
              "       [1., 1., 1., 1.],\n",
              "       [1., 1., 1., 1.]])"
            ]
          },
          "metadata": {},
          "execution_count": 22
        }
      ]
    },
    {
      "cell_type": "markdown",
      "metadata": {
        "id": "9-5VJpu2amcy"
      },
      "source": [
        "## `np.full`\n",
        "Creates an array of the given shape initialized with the given value. Here's a 3x4 matrix full of `π`."
      ]
    },
    {
      "cell_type": "code",
      "metadata": {
        "id": "_29MnUTCamcy",
        "colab": {
          "base_uri": "https://localhost:8080/"
        },
        "outputId": "6c49ca84-6934-4b72-b176-b8012cb8bde5"
      },
      "source": [
        "np.full((3,4), np.pi)"
      ],
      "execution_count": null,
      "outputs": [
        {
          "output_type": "execute_result",
          "data": {
            "text/plain": [
              "array([[3.14159265, 3.14159265, 3.14159265, 3.14159265],\n",
              "       [3.14159265, 3.14159265, 3.14159265, 3.14159265],\n",
              "       [3.14159265, 3.14159265, 3.14159265, 3.14159265]])"
            ]
          },
          "metadata": {},
          "execution_count": 194
        }
      ]
    },
    {
      "cell_type": "markdown",
      "metadata": {
        "id": "MohOq8Bvamcz"
      },
      "source": [
        "## np.array\n",
        "Of course you can initialize an `ndarray` using a regular python array. Just call the `array` function:"
      ]
    },
    {
      "cell_type": "code",
      "metadata": {
        "id": "URQlkFuYamcz",
        "colab": {
          "base_uri": "https://localhost:8080/"
        },
        "outputId": "11d934bd-fea6-4628-a8a1-21a4e5827ee6"
      },
      "source": [
        "np.array([[1,2,3,4], [10, 20, 30, 40]])"
      ],
      "execution_count": null,
      "outputs": [
        {
          "output_type": "execute_result",
          "data": {
            "text/plain": [
              "array([[ 1,  2,  3,  4],\n",
              "       [10, 20, 30, 40]])"
            ]
          },
          "metadata": {},
          "execution_count": 24
        }
      ]
    },
    {
      "cell_type": "markdown",
      "metadata": {
        "id": "_gU9F2r8amcz"
      },
      "source": [
        "## `np.arange`\n",
        "You can create an `ndarray` using NumPy's `range` function, which is similar to python's built-in `range` function:"
      ]
    },
    {
      "cell_type": "code",
      "metadata": {
        "scrolled": true,
        "id": "LZY1_1n1amcz",
        "colab": {
          "base_uri": "https://localhost:8080/"
        },
        "outputId": "d78457c3-c2c0-4a83-d2c1-ced8134d4181"
      },
      "source": [
        "np.arange(1, 5)"
      ],
      "execution_count": null,
      "outputs": [
        {
          "output_type": "execute_result",
          "data": {
            "text/plain": [
              "array([1, 2, 3, 4])"
            ]
          },
          "metadata": {},
          "execution_count": 25
        }
      ]
    },
    {
      "cell_type": "markdown",
      "metadata": {
        "id": "O3-SHm8Pamc0"
      },
      "source": [
        "Of course you can provide a step parameter:"
      ]
    },
    {
      "cell_type": "code",
      "metadata": {
        "id": "dJKwqKTjamc0",
        "colab": {
          "base_uri": "https://localhost:8080/"
        },
        "outputId": "c3b3eb8d-1823-4ed6-fd11-cc478cfe7f34"
      },
      "source": [
        "np.arange(1, 5, 0.5)"
      ],
      "execution_count": null,
      "outputs": [
        {
          "output_type": "execute_result",
          "data": {
            "text/plain": [
              "array([1. , 1.5, 2. , 2.5, 3. , 3.5, 4. , 4.5])"
            ]
          },
          "metadata": {},
          "execution_count": 26
        }
      ]
    },
    {
      "cell_type": "markdown",
      "metadata": {
        "id": "pEnA0jfVamc0"
      },
      "source": [
        "However, when dealing with floats, the exact number of elements in the array is not always predictible. For example, consider this:"
      ]
    },
    {
      "cell_type": "code",
      "metadata": {
        "id": "ytW_W1Xuamc1",
        "colab": {
          "base_uri": "https://localhost:8080/"
        },
        "outputId": "9218fb7d-c8da-4e19-934b-c6dcc04f4c22"
      },
      "source": [
        "print(np.arange(0, 5/3, 1/3)) # depending on floating point errors, the max value is 4/3 or 5/3.\n",
        "print(np.arange(0, 5/3, 0.333333333))\n",
        "print(np.arange(0, 5/3, 0.333333334))"
      ],
      "execution_count": null,
      "outputs": [
        {
          "output_type": "stream",
          "name": "stdout",
          "text": [
            "[0.         0.33333333 0.66666667 1.         1.33333333 1.66666667]\n",
            "[0.         0.33333333 0.66666667 1.         1.33333333 1.66666667]\n",
            "[0.         0.33333333 0.66666667 1.         1.33333334]\n"
          ]
        }
      ]
    },
    {
      "cell_type": "markdown",
      "metadata": {
        "id": "sVJP6NJgamc1"
      },
      "source": [
        "## `np.linspace`\n",
        "For this reason, it is generally preferable to use the `linspace` function instead of `arange` when working with floats. The `linspace` function returns an array containing a specific number of points evenly distributed between two values (note that the maximum value is *included*, contrary to `arange`):"
      ]
    },
    {
      "cell_type": "code",
      "metadata": {
        "id": "PtKqqbPwamc1",
        "colab": {
          "base_uri": "https://localhost:8080/"
        },
        "outputId": "0ed1070e-9d8b-4c7d-f8f9-a14c80c57b86"
      },
      "source": [
        "print(np.linspace(0, 0.5, 5))"
      ],
      "execution_count": null,
      "outputs": [
        {
          "output_type": "stream",
          "name": "stdout",
          "text": [
            "[0.    0.125 0.25  0.375 0.5  ]\n"
          ]
        }
      ]
    },
    {
      "cell_type": "markdown",
      "metadata": {
        "id": "-nLyHbI3amc1"
      },
      "source": [
        "## `np.rand` and `np.randn`\n",
        "A number of functions are available in NumPy's `random` module to create `ndarray`s initialized with random values.\n",
        "For example, here is a 3x4 matrix initialized with random floats between 0 and 1 (uniform distribution):"
      ]
    },
    {
      "cell_type": "code",
      "metadata": {
        "id": "-alNEX7Samc2",
        "colab": {
          "base_uri": "https://localhost:8080/"
        },
        "outputId": "dc586e42-7722-410b-b713-43166195c08b"
      },
      "source": [
        "d = np.random.rand(3,4)\n",
        "print(d)"
      ],
      "execution_count": null,
      "outputs": [
        {
          "output_type": "stream",
          "name": "stdout",
          "text": [
            "[[0.97002798 0.28754032 0.53209561 0.20704016]\n",
            " [0.69765843 0.41673437 0.80118074 0.87355884]\n",
            " [0.09332373 0.3081249  0.18245749 0.91433645]]\n"
          ]
        }
      ]
    },
    {
      "cell_type": "code",
      "metadata": {
        "colab": {
          "base_uri": "https://localhost:8080/",
          "height": 284
        },
        "id": "taR6lUJ3kXEF",
        "outputId": "ddf6af88-a36e-472a-da4e-c1a53b53bfbf"
      },
      "source": [
        "import matplotlib.pyplot as plt\n",
        "plt.plot(d.flatten())"
      ],
      "execution_count": null,
      "outputs": [
        {
          "output_type": "execute_result",
          "data": {
            "text/plain": [
              "[<matplotlib.lines.Line2D at 0x7fe700466d50>]"
            ]
          },
          "metadata": {},
          "execution_count": 164
        },
        {
          "output_type": "display_data",
          "data": {
            "image/png": "[encoded data removed]",
            "text/plain": [
              "<Figure size 432x288 with 1 Axes>"
            ]
          },
          "metadata": {
            "needs_background": "light"
          }
        }
      ]
    },
    {
      "cell_type": "markdown",
      "metadata": {
        "id": "yg7KLA_4amc4"
      },
      "source": [
        "# Array data\n",
        "## `dtype`\n",
        "NumPy's `ndarray`s are also efficient in part because all their elements must have the same type (usually numbers).\n",
        "You can check what the data type is by looking at the `dtype` attribute:  "
      ]
    },
    {
      "cell_type": "markdown",
      "metadata": {
        "id": "dB7GR0XJ2Nko"
      },
      "source": [
        "***Commonly used dtype in numpy : int8, int16, int32, int64, uint8|16|32|64, float16|32|64 and complex64|128***"
      ]
    },
    {
      "cell_type": "code",
      "metadata": {
        "scrolled": true,
        "id": "0q_8d__Uamc4",
        "colab": {
          "base_uri": "https://localhost:8080/"
        },
        "outputId": "c1811c98-93ff-43f4-858e-3a2b9876e0c1"
      },
      "source": [
        "c = np.arange(1, 5)\n",
        "print(c.dtype, c)"
      ],
      "execution_count": null,
      "outputs": [
        {
          "output_type": "stream",
          "name": "stdout",
          "text": [
            "int64 [1 2 3 4]\n"
          ]
        }
      ]
    },
    {
      "cell_type": "code",
      "metadata": {
        "colab": {
          "base_uri": "https://localhost:8080/"
        },
        "id": "h20Cw-fcs3_D",
        "outputId": "a2b4184e-af9c-4b47-8014-6da9e7cddd1f"
      },
      "source": [
        "names = np.array(['sam','roy','tom'])\n",
        "names"
      ],
      "execution_count": null,
      "outputs": [
        {
          "output_type": "execute_result",
          "data": {
            "text/plain": [
              "array(['sam', 'roy', 'tom'], dtype='<U3')"
            ]
          },
          "metadata": {},
          "execution_count": 195
        }
      ]
    },
    {
      "cell_type": "markdown",
      "metadata": {
        "id": "qM1-1WTD2oDI"
      },
      "source": [
        "**U : Unicode String**"
      ]
    },
    {
      "cell_type": "code",
      "metadata": {
        "colab": {
          "base_uri": "https://localhost:8080/"
        },
        "id": "0FY_8xlk9QCz",
        "outputId": "ef7b8e01-ca41-473c-c133-29fe006e204b"
      },
      "source": [
        "bool_arr = k2 == np.int\n",
        "print(bool_arr,bool_arr.dtype)"
      ],
      "execution_count": null,
      "outputs": [
        {
          "output_type": "stream",
          "name": "stdout",
          "text": [
            "[False False False False False] bool\n"
          ]
        }
      ]
    },
    {
      "cell_type": "code",
      "metadata": {
        "id": "QQudJrhzamc5",
        "colab": {
          "base_uri": "https://localhost:8080/"
        },
        "outputId": "09c5817f-1aff-43fd-cc00-6a689ac499d5"
      },
      "source": [
        "c = np.arange(1.0, 5.0)\n",
        "print(c.dtype, c)"
      ],
      "execution_count": null,
      "outputs": [
        {
          "output_type": "stream",
          "name": "stdout",
          "text": [
            "float64 [1. 2. 3. 4.]\n"
          ]
        }
      ]
    },
    {
      "cell_type": "code",
      "metadata": {
        "id": "yPxM3Ar4amc5",
        "colab": {
          "base_uri": "https://localhost:8080/"
        },
        "outputId": "037c2793-0338-43c1-eca3-0c108287a0e8"
      },
      "source": [
        "d = np.arange(1, 5, dtype=np.complex64)\n",
        "print(d.dtype, d)"
      ],
      "execution_count": null,
      "outputs": [
        {
          "output_type": "stream",
          "name": "stdout",
          "text": [
            "complex64 [1.+0.j 2.+0.j 3.+0.j 4.+0.j]\n"
          ]
        }
      ]
    },
    {
      "cell_type": "code",
      "metadata": {
        "colab": {
          "base_uri": "https://localhost:8080/"
        },
        "id": "YGi5jruP1hdy",
        "outputId": "eb05ac10-512b-4124-9f86-9facb39e0628"
      },
      "source": [
        "c = c.astype(np.int64)\n",
        "print(c.dtype, c)"
      ],
      "execution_count": null,
      "outputs": [
        {
          "output_type": "stream",
          "name": "stdout",
          "text": [
            "int64 [1 2 3 4]\n"
          ]
        }
      ]
    },
    {
      "cell_type": "markdown",
      "metadata": {
        "id": "ZhGi8nvSamc5"
      },
      "source": [
        "Instead of letting NumPy guess what data type to use, you can set it explicitly when creating an array by setting the `dtype` parameter:"
      ]
    },
    {
      "cell_type": "markdown",
      "metadata": {
        "id": "NhP_76_5amc7"
      },
      "source": [
        "# Reshaping an array\n",
        "## In place\n",
        "Changing the shape of an `ndarray` is as simple as setting its `shape` attribute. However, the array's size must remain the same."
      ]
    },
    {
      "cell_type": "markdown",
      "metadata": {
        "id": "_2t7rvlDamc8"
      },
      "source": [
        "## `reshape`\n",
        "The `reshape` function returns a new `ndarray` object pointing at the *same* data. This means that modifying one array will also modify the other."
      ]
    },
    {
      "cell_type": "code",
      "metadata": {
        "colab": {
          "base_uri": "https://localhost:8080/"
        },
        "id": "ElHfBXZSr1jd",
        "outputId": "aee4710a-484a-4e65-a7e9-9257921aa337"
      },
      "source": [
        "g = np.arange(24)\n",
        "g"
      ],
      "execution_count": null,
      "outputs": [
        {
          "output_type": "execute_result",
          "data": {
            "text/plain": [
              "array([ 0,  1,  2,  3,  4,  5,  6,  7,  8,  9, 10, 11, 12, 13, 14, 15, 16,\n",
              "       17, 18, 19, 20, 21, 22, 23])"
            ]
          },
          "metadata": {},
          "execution_count": 197
        }
      ]
    },
    {
      "cell_type": "code",
      "metadata": {
        "scrolled": true,
        "id": "5fjVUaUcamc8",
        "colab": {
          "base_uri": "https://localhost:8080/"
        },
        "outputId": "a93f80ef-b16c-4b26-afc3-7b8c1c3b9130"
      },
      "source": [
        "g2 = g.reshape(4,6)\n",
        "print(g2)\n",
        "print(\"Rank :\", g2.ndim,\"\\nSize : \",g2.size)"
      ],
      "execution_count": null,
      "outputs": [
        {
          "output_type": "stream",
          "name": "stdout",
          "text": [
            "[[ 0  1  2  3  4  5]\n",
            " [ 6  7  8  9 10 11]\n",
            " [12 13 14 15 16 17]\n",
            " [18 19 20 21 22 23]]\n",
            "Rank : 2 \n",
            "Size :  24\n"
          ]
        }
      ]
    },
    {
      "cell_type": "markdown",
      "metadata": {
        "id": "0uIpRnbBamc8"
      },
      "source": [
        "Set item at row 1, col 2 to -1"
      ]
    },
    {
      "cell_type": "code",
      "metadata": {
        "id": "xGiByHAJamc8",
        "colab": {
          "base_uri": "https://localhost:8080/"
        },
        "outputId": "0f6c4412-7537-4233-ad02-1bf356cf0c17"
      },
      "source": [
        "g2[1, 2] = -8\n",
        "g2"
      ],
      "execution_count": null,
      "outputs": [
        {
          "output_type": "execute_result",
          "data": {
            "text/plain": [
              "array([[ 0,  1,  2,  3,  4,  5],\n",
              "       [ 6,  7, -8,  9, 10, 11],\n",
              "       [12, 13, 14, 15, 16, 17],\n",
              "       [18, 19, 20, 21, 22, 23]])"
            ]
          },
          "metadata": {},
          "execution_count": 199
        }
      ]
    },
    {
      "cell_type": "markdown",
      "metadata": {
        "id": "EYoMwEMramc9"
      },
      "source": [
        "The corresponding element in `g` has been modified."
      ]
    },
    {
      "cell_type": "code",
      "metadata": {
        "id": "YpqDgSlhamc9",
        "colab": {
          "base_uri": "https://localhost:8080/"
        },
        "outputId": "acd815ed-52cb-4346-8cac-3289493e7ae7"
      },
      "source": [
        "g"
      ],
      "execution_count": null,
      "outputs": [
        {
          "output_type": "execute_result",
          "data": {
            "text/plain": [
              "array([ 0,  1,  2,  3,  4,  5,  6,  7, -8,  9, 10, 11, 12, 13, 14, 15, 16,\n",
              "       17, 18, 19, 20, 21, 22, 23])"
            ]
          },
          "metadata": {},
          "execution_count": 200
        }
      ]
    },
    {
      "cell_type": "markdown",
      "metadata": {
        "id": "oKr1YH3Pamc9"
      },
      "source": [
        "## `ravel`\n",
        "Finally, the `ravel` function returns a new one-dimensional `ndarray` that also points to the same data:"
      ]
    },
    {
      "cell_type": "code",
      "metadata": {
        "id": "b6gx2jBuamc9",
        "colab": {
          "base_uri": "https://localhost:8080/"
        },
        "outputId": "2169ed81-3a0a-4503-ff9a-d01f7394238c"
      },
      "source": [
        "g.ravel()"
      ],
      "execution_count": null,
      "outputs": [
        {
          "output_type": "execute_result",
          "data": {
            "text/plain": [
              "array([ 0,  1,  2,  3,  4,  5,  6,  7, -1,  9, 10, 11, 12, 13, 14, 15, 16,\n",
              "       17, 18, 19, 20, 21, 22, 23])"
            ]
          },
          "metadata": {},
          "execution_count": 40
        }
      ]
    },
    {
      "cell_type": "markdown",
      "metadata": {
        "id": "n8ZLYZx8amc9"
      },
      "source": [
        "# Arithmetic operations\n",
        "All the usual arithmetic operators (`+`, `-`, `*`, `/`, `//`, `**`, etc.) can be used with `ndarray`s. They apply *elementwise*:"
      ]
    },
    {
      "cell_type": "code",
      "metadata": {
        "scrolled": false,
        "id": "8eLP5bHyamc9",
        "colab": {
          "base_uri": "https://localhost:8080/"
        },
        "outputId": "6c9a7782-6b1f-4e10-bed3-14d51474216a"
      },
      "source": [
        "a = np.array([14, 23, 32, 41])\n",
        "b = np.array([5,  4,  3,  2])\n",
        "print(\"a + b  =\", a + b)\n",
        "print(\"a - b  =\", a - b)\n",
        "print(\"a * b  =\", a * b)\n",
        "print(\"a / b  =\", a / b)\n",
        "print(\"a // b  =\", a // b)\n",
        "print(\"a % b  =\", a % b)\n",
        "print(\"a ** b =\", a ** b)"
      ],
      "execution_count": null,
      "outputs": [
        {
          "output_type": "stream",
          "name": "stdout",
          "text": [
            "a + b  = [19 27 35 43]\n",
            "a - b  = [ 9 19 29 39]\n",
            "a * b  = [70 92 96 82]\n",
            "a / b  = [ 2.8         5.75       10.66666667 20.5       ]\n",
            "a // b  = [ 2  5 10 20]\n",
            "a % b  = [4 3 2 1]\n",
            "a ** b = [537824 279841  32768   1681]\n"
          ]
        }
      ]
    },
    {
      "cell_type": "markdown",
      "metadata": {
        "id": "wevibiw5amc9"
      },
      "source": [
        "Note that the multiplication is *not* a matrix multiplication. We will discuss matrix operations below.\n",
        "\n",
        "The arrays must have the same shape. If they do not, NumPy will apply the *broadcasting rules*."
      ]
    },
    {
      "cell_type": "markdown",
      "metadata": {
        "id": "KySQFI5zamc-"
      },
      "source": [
        "# Broadcasting"
      ]
    },
    {
      "cell_type": "markdown",
      "metadata": {
        "id": "Spl7wpxGamc-"
      },
      "source": [
        "In general, when NumPy expects arrays of the same shape but finds that this is not the case, it applies the so-called *broadcasting* rules:\n",
        "\n",
        "## First rule\n",
        "*If the arrays do not have the same rank, then a 1 will be prepended to the smaller ranking arrays until their ranks match.*"
      ]
    },
    {
      "cell_type": "code",
      "metadata": {
        "id": "n0k6S8nxamc-",
        "colab": {
          "base_uri": "https://localhost:8080/"
        },
        "outputId": "27636426-4957-4dbd-ceff-41f27541b862"
      },
      "source": [
        "h = np.arange(5).reshape(1, 1, 5)\n",
        "h"
      ],
      "execution_count": null,
      "outputs": [
        {
          "output_type": "execute_result",
          "data": {
            "text/plain": [
              "array([[[0, 1, 2, 3, 4]]])"
            ]
          },
          "metadata": {},
          "execution_count": 42
        }
      ]
    },
    {
      "cell_type": "markdown",
      "metadata": {
        "id": "CmFhtV-iamc-"
      },
      "source": [
        "Now let's try to add a 1D array of shape `(5,)` to this 3D array of shape `(1,1,5)`. Applying the first rule of broadcasting!"
      ]
    },
    {
      "cell_type": "code",
      "metadata": {
        "id": "xdAGay13amc-",
        "colab": {
          "base_uri": "https://localhost:8080/"
        },
        "outputId": "9ba15438-718b-4391-988d-78fd62464d11"
      },
      "source": [
        "h + [10, 20, 30, 40, 50]  # same as: h + [[[10, 20, 30, 40, 50]]]"
      ],
      "execution_count": null,
      "outputs": [
        {
          "output_type": "execute_result",
          "data": {
            "text/plain": [
              "array([[[10, 21, 32, 43, 54]]])"
            ]
          },
          "metadata": {},
          "execution_count": 43
        }
      ]
    },
    {
      "cell_type": "markdown",
      "metadata": {
        "id": "s2r9RoW-amc-"
      },
      "source": [
        "## Second rule\n",
        "*Arrays with a 1 along a particular dimension act as if they had the size of the array with the largest shape along that dimension. The value of the array element is repeated along that dimension.*"
      ]
    },
    {
      "cell_type": "code",
      "metadata": {
        "id": "m2mqeBZbamc-",
        "colab": {
          "base_uri": "https://localhost:8080/"
        },
        "outputId": "f3215624-0731-47c0-da74-87686e502513"
      },
      "source": [
        "k = np.arange(6).reshape(2, 3)\n",
        "k"
      ],
      "execution_count": null,
      "outputs": [
        {
          "output_type": "execute_result",
          "data": {
            "text/plain": [
              "array([[0, 1, 2],\n",
              "       [3, 4, 5]])"
            ]
          },
          "metadata": {},
          "execution_count": 44
        }
      ]
    },
    {
      "cell_type": "markdown",
      "metadata": {
        "id": "gvxDKFeEamc_"
      },
      "source": [
        "Let's try to add a 2D array of shape `(2,1)` to this 2D `ndarray` of shape `(2, 3)`. NumPy will apply the second rule of broadcasting:"
      ]
    },
    {
      "cell_type": "code",
      "metadata": {
        "id": "pc3Rbhp-amc_",
        "colab": {
          "base_uri": "https://localhost:8080/"
        },
        "outputId": "170f8197-38cd-48ed-b4ba-5c4ee13bcd0d"
      },
      "source": [
        "k + [[100], \n",
        "     [200]]  # same as: k + [[100, 100, 100], [200, 200, 200]]"
      ],
      "execution_count": null,
      "outputs": [
        {
          "output_type": "execute_result",
          "data": {
            "text/plain": [
              "array([[100, 101, 102],\n",
              "       [203, 204, 205]])"
            ]
          },
          "metadata": {},
          "execution_count": 187
        }
      ]
    },
    {
      "cell_type": "markdown",
      "metadata": {
        "id": "Dl9ml_vVamc_"
      },
      "source": [
        "Combining rules 1 & 2, we can do this:"
      ]
    },
    {
      "cell_type": "code",
      "metadata": {
        "id": "HiLP1q-gamc_",
        "colab": {
          "base_uri": "https://localhost:8080/"
        },
        "outputId": "ff546730-2c3c-41f1-9632-cc63a967d81e"
      },
      "source": [
        "k + [100, 200, 300]  # after rule 1: [[100, 200, 300]], and after rule 2: [[100, 200, 300], [100, 200, 300]]"
      ],
      "execution_count": null,
      "outputs": [
        {
          "output_type": "execute_result",
          "data": {
            "text/plain": [
              "array([[100, 201, 302],\n",
              "       [103, 204, 305]])"
            ]
          },
          "metadata": {},
          "execution_count": 46
        }
      ]
    },
    {
      "cell_type": "markdown",
      "metadata": {
        "id": "f7eDkt1Samc_"
      },
      "source": [
        "And also, very simply:"
      ]
    },
    {
      "cell_type": "code",
      "metadata": {
        "id": "bZDk0rvOamc_",
        "colab": {
          "base_uri": "https://localhost:8080/"
        },
        "outputId": "3927c755-58f7-4a85-e11b-97f5d6fc6ee7"
      },
      "source": [
        "k + 1000  # same as: k + [[1000, 1000, 1000], [1000, 1000, 1000]]"
      ],
      "execution_count": null,
      "outputs": [
        {
          "output_type": "execute_result",
          "data": {
            "text/plain": [
              "array([[1000, 1001, 1002],\n",
              "       [1003, 1004, 1005]])"
            ]
          },
          "metadata": {},
          "execution_count": 47
        }
      ]
    },
    {
      "cell_type": "markdown",
      "metadata": {
        "id": "9v7OeBf8Djd3"
      },
      "source": [
        "![broadcasting](https://external-content.duckduckgo.com/iu/?u=https%3A%2F%2Ftse4.mm.bing.net%2Fth%3Fid%3DOIP.xbgXKepaeHZRqmHWsCb_qwHaE8%26pid%3DApi&f=1)"
      ]
    },
    {
      "cell_type": "markdown",
      "metadata": {
        "id": "Uuzj5H6Kamc_"
      },
      "source": [
        "## Third rule\n",
        "*After rules 1 & 2, the sizes of all arrays must match.*"
      ]
    },
    {
      "cell_type": "code",
      "metadata": {
        "id": "ARMIQKwxamdA",
        "colab": {
          "base_uri": "https://localhost:8080/"
        },
        "outputId": "d1046cfe-018f-4832-f144-10e7d3211a2d"
      },
      "source": [
        "try:\n",
        "    k + [33, 44]\n",
        "except ValueError as e:\n",
        "    print(e)"
      ],
      "execution_count": null,
      "outputs": [
        {
          "output_type": "stream",
          "name": "stdout",
          "text": [
            "operands could not be broadcast together with shapes (2,3) (2,) \n"
          ]
        }
      ]
    },
    {
      "cell_type": "markdown",
      "metadata": {
        "id": "iFUyonGLamdA"
      },
      "source": [
        "## Upcasting\n",
        "When trying to combine arrays with different `dtype`s, NumPy will *upcast* to a type capable of handling all possible values (regardless of what the *actual* values are)."
      ]
    },
    {
      "cell_type": "code",
      "metadata": {
        "id": "76AniLv-amdA",
        "colab": {
          "base_uri": "https://localhost:8080/"
        },
        "outputId": "be4aa389-3b3c-45b7-80fb-4ae27d29151a"
      },
      "source": [
        "k1 = np.arange(0, 5, dtype=np.uint8)\n",
        "print(k1.dtype, k1)"
      ],
      "execution_count": null,
      "outputs": [
        {
          "output_type": "stream",
          "name": "stdout",
          "text": [
            "uint8 [0 1 2 3 4]\n"
          ]
        }
      ]
    },
    {
      "cell_type": "code",
      "metadata": {
        "id": "yEvI-g7OamdA",
        "colab": {
          "base_uri": "https://localhost:8080/"
        },
        "outputId": "c91ac13f-fdb7-401d-dabe-1013de954bd8"
      },
      "source": [
        "k2 = k1 + np.array([5, 6, 7, 8, 9], dtype=np.int8)\n",
        "print(k2.dtype, k2)"
      ],
      "execution_count": null,
      "outputs": [
        {
          "output_type": "stream",
          "name": "stdout",
          "text": [
            "int16 [ 5  7  9 11 13]\n"
          ]
        }
      ]
    },
    {
      "cell_type": "markdown",
      "metadata": {
        "id": "6JLDQLJaamdA"
      },
      "source": [
        "Note that `int16` is required to represent all *possible* `int8` and `uint8` values (from -128 to 255), even though in this case a uint8 would have sufficed."
      ]
    },
    {
      "cell_type": "code",
      "metadata": {
        "id": "rL8v0CKlamdA",
        "colab": {
          "base_uri": "https://localhost:8080/"
        },
        "outputId": "9e6aad01-6fee-493a-cdc9-3aee93183b55"
      },
      "source": [
        "k3 = k1 + 1.5\n",
        "print(k3.dtype, k3)"
      ],
      "execution_count": null,
      "outputs": [
        {
          "output_type": "stream",
          "name": "stdout",
          "text": [
            "float64 [1.5 2.5 3.5 4.5 5.5]\n"
          ]
        }
      ]
    },
    {
      "cell_type": "markdown",
      "metadata": {
        "id": "p_A3VOvlamdB"
      },
      "source": [
        "# Conditional operators"
      ]
    },
    {
      "cell_type": "markdown",
      "metadata": {
        "id": "aQgmH0W5amdB"
      },
      "source": [
        "The conditional operators also apply elementwise:"
      ]
    },
    {
      "cell_type": "code",
      "metadata": {
        "id": "TTT4W9PYamdB",
        "colab": {
          "base_uri": "https://localhost:8080/"
        },
        "outputId": "6b261acc-48fa-4e01-b49e-3346f75f4348"
      },
      "source": [
        "m = np.array([20, -5, 30, 40])\n",
        "m < [15, 16, 35, 36]"
      ],
      "execution_count": null,
      "outputs": [
        {
          "output_type": "execute_result",
          "data": {
            "text/plain": [
              "array([False,  True,  True, False])"
            ]
          },
          "metadata": {},
          "execution_count": 201
        }
      ]
    },
    {
      "cell_type": "markdown",
      "metadata": {
        "id": "TbWg93YmamdB"
      },
      "source": [
        "And using broadcasting:"
      ]
    },
    {
      "cell_type": "code",
      "metadata": {
        "id": "xr1BCvX0amdB",
        "colab": {
          "base_uri": "https://localhost:8080/"
        },
        "outputId": "c9fb3f81-2b9c-4d9b-cda0-bc8f2bbbd9d4"
      },
      "source": [
        "m < 25  # equivalent to m < [25, 25, 25, 25]"
      ],
      "execution_count": null,
      "outputs": [
        {
          "output_type": "execute_result",
          "data": {
            "text/plain": [
              "array([ True,  True, False, False])"
            ]
          },
          "metadata": {},
          "execution_count": 202
        }
      ]
    },
    {
      "cell_type": "markdown",
      "metadata": {
        "id": "oHinlndeamdC"
      },
      "source": [
        "This is most useful in conjunction with boolean indexing (discussed below)."
      ]
    },
    {
      "cell_type": "code",
      "metadata": {
        "id": "PzBAYglUamdC",
        "colab": {
          "base_uri": "https://localhost:8080/"
        },
        "outputId": "ff609bf2-f383-47e6-ff7d-9fa5c0b1c698"
      },
      "source": [
        "m[m < 25]"
      ],
      "execution_count": null,
      "outputs": [
        {
          "output_type": "execute_result",
          "data": {
            "text/plain": [
              "array([20, -5])"
            ]
          },
          "metadata": {},
          "execution_count": 55
        }
      ]
    },
    {
      "cell_type": "markdown",
      "metadata": {
        "id": "9Io2_Ez2amdC"
      },
      "source": [
        "# Mathematical and statistical functions"
      ]
    },
    {
      "cell_type": "markdown",
      "metadata": {
        "id": "laXrpmjzamdC"
      },
      "source": [
        "Many mathematical and statistical functions are available for `ndarray`s.\n",
        "\n",
        "## `ndarray` methods\n",
        "Some functions are simply `ndarray` methods, for example:"
      ]
    },
    {
      "cell_type": "code",
      "metadata": {
        "id": "hQNic9W2amdC",
        "colab": {
          "base_uri": "https://localhost:8080/"
        },
        "outputId": "6ab5b667-5cbb-4557-be50-529dd7746c09"
      },
      "source": [
        "a = np.arange(15)\n",
        "print(a),\n",
        "for func in (a.mean, a.min, a.max, a.sum, a.prod, a.std, a.var):\n",
        "    print(func.__name__, \"=\", func())"
      ],
      "execution_count": null,
      "outputs": [
        {
          "output_type": "stream",
          "name": "stdout",
          "text": [
            "[ 0  1  2  3  4  5  6  7  8  9 10 11 12 13 14]\n",
            "mean = 7.0\n",
            "min = 0\n",
            "max = 14\n",
            "sum = 105\n",
            "prod = 0\n",
            "std = 4.320493798938574\n",
            "var = 18.666666666666668\n"
          ]
        }
      ]
    },
    {
      "cell_type": "markdown",
      "metadata": {
        "id": "4l82tL6lamdD"
      },
      "source": [
        "These functions accept an optional argument `axis` which lets you ask for the operation to be performed on elements along the given axis. For example:"
      ]
    },
    {
      "cell_type": "code",
      "metadata": {
        "id": "zl_8ZFLRamdD",
        "colab": {
          "base_uri": "https://localhost:8080/"
        },
        "outputId": "e7efb408-6f3e-4bc2-9d7c-397bcc8a9d0c"
      },
      "source": [
        "c=np.arange(24).reshape(2 ,3 ,4)\n",
        "#                      /\\ /\\ /\\\n",
        "#                      |  |  |\n",
        "#                axis  0 1  2    \n",
        "c"
      ],
      "execution_count": null,
      "outputs": [
        {
          "output_type": "execute_result",
          "data": {
            "text/plain": [
              "array([[[ 0,  1,  2,  3],\n",
              "        [ 4,  5,  6,  7],\n",
              "        [ 8,  9, 10, 11]],\n",
              "\n",
              "       [[12, 13, 14, 15],\n",
              "        [16, 17, 18, 19],\n",
              "        [20, 21, 22, 23]]])"
            ]
          },
          "metadata": {},
          "execution_count": 57
        }
      ]
    },
    {
      "cell_type": "code",
      "metadata": {
        "id": "BfAVW2WyamdD",
        "colab": {
          "base_uri": "https://localhost:8080/"
        },
        "outputId": "7941ab4c-69b1-4ace-fafa-8975e87a564d"
      },
      "source": [
        "c.sum(axis=0)  # sum across matrices"
      ],
      "execution_count": null,
      "outputs": [
        {
          "output_type": "execute_result",
          "data": {
            "text/plain": [
              "array([[12, 14, 16, 18],\n",
              "       [20, 22, 24, 26],\n",
              "       [28, 30, 32, 34]])"
            ]
          },
          "metadata": {},
          "execution_count": 58
        }
      ]
    },
    {
      "cell_type": "code",
      "metadata": {
        "id": "fIeoMh8ramdD",
        "colab": {
          "base_uri": "https://localhost:8080/"
        },
        "outputId": "0a150596-f982-4052-cb65-da17f99aa68b"
      },
      "source": [
        "c.sum(axis=1)  # sum across rows"
      ],
      "execution_count": null,
      "outputs": [
        {
          "output_type": "execute_result",
          "data": {
            "text/plain": [
              "array([[12, 15, 18, 21],\n",
              "       [48, 51, 54, 57]])"
            ]
          },
          "metadata": {},
          "execution_count": 59
        }
      ]
    },
    {
      "cell_type": "code",
      "metadata": {
        "colab": {
          "base_uri": "https://localhost:8080/"
        },
        "id": "DCjsYVRtVAiZ",
        "outputId": "8e97e3da-e908-4ca0-ff80-d1e4b177fd2b"
      },
      "source": [
        "c.sum(axis=2)"
      ],
      "execution_count": null,
      "outputs": [
        {
          "output_type": "execute_result",
          "data": {
            "text/plain": [
              "array([[ 6, 22, 38],\n",
              "       [54, 70, 86]])"
            ]
          },
          "metadata": {},
          "execution_count": 60
        }
      ]
    },
    {
      "cell_type": "markdown",
      "metadata": {
        "id": "jyu3VSgUamdF"
      },
      "source": [
        "You can also sum over multiple axes:"
      ]
    },
    {
      "cell_type": "code",
      "metadata": {
        "id": "S1ilXh9kamdF",
        "colab": {
          "base_uri": "https://localhost:8080/"
        },
        "outputId": "fa90a911-5d24-49fe-a097-197be549bcdd"
      },
      "source": [
        "c.sum(axis=(0,2))  # sum across matrices and columns"
      ],
      "execution_count": null,
      "outputs": [
        {
          "output_type": "execute_result",
          "data": {
            "text/plain": [
              "array([ 60,  92, 124])"
            ]
          },
          "metadata": {},
          "execution_count": 61
        }
      ]
    },
    {
      "cell_type": "code",
      "metadata": {
        "id": "bdT1uezoamdG",
        "colab": {
          "base_uri": "https://localhost:8080/"
        },
        "outputId": "d4e1ac17-5691-4818-8375-58d1e25b4e52"
      },
      "source": [
        "0+1+2+3 + 12+13+14+15, 4+5+6+7 + 16+17+18+19, 8+9+10+11 + 20+21+22+23"
      ],
      "execution_count": null,
      "outputs": [
        {
          "output_type": "execute_result",
          "data": {
            "text/plain": [
              "(60, 92, 124)"
            ]
          },
          "metadata": {},
          "execution_count": 62
        }
      ]
    },
    {
      "cell_type": "markdown",
      "metadata": {
        "id": "jaKPadw8amdG"
      },
      "source": [
        "## Universal functions\n",
        "NumPy also provides fast elementwise functions called *universal functions*, or **ufunc**. They are vectorized wrappers of simple functions. For example `square` returns a new `ndarray` which is a copy of the original `ndarray` except that each element is squared:"
      ]
    },
    {
      "cell_type": "code",
      "metadata": {
        "id": "DYor72V3amdG",
        "colab": {
          "base_uri": "https://localhost:8080/"
        },
        "outputId": "390830eb-4e68-4129-e3e1-224217651149"
      },
      "source": [
        "a = np.array([[-2.5,3 , 7], [np.nan, 11, 12]])\n",
        "np.square(a)"
      ],
      "execution_count": null,
      "outputs": [
        {
          "output_type": "execute_result",
          "data": {
            "text/plain": [
              "array([[  6.25,   9.  ,  49.  ],\n",
              "       [   nan, 121.  , 144.  ]])"
            ]
          },
          "metadata": {},
          "execution_count": 178
        }
      ]
    },
    {
      "cell_type": "markdown",
      "metadata": {
        "id": "YFeWZ4w5amdG"
      },
      "source": [
        "Here are a few more useful unary ufuncs:"
      ]
    },
    {
      "cell_type": "code",
      "metadata": {
        "id": "Kze-jy8_amdG",
        "colab": {
          "base_uri": "https://localhost:8080/"
        },
        "outputId": "5e7821fc-8e8d-4a59-befa-f11e31bfe6a6"
      },
      "source": [
        "print(\"Original ndarray\")\n",
        "print(a)\n",
        "for func in (np.abs, np.sqrt, np.exp, np.log, np.sign, np.ceil, np.modf, np.isnan, np.cos):\n",
        "    print(\"\\n\", func.__name__)\n",
        "    print(func(a))"
      ],
      "execution_count": null,
      "outputs": [
        {
          "output_type": "stream",
          "name": "stdout",
          "text": [
            "Original ndarray\n",
            "[[-2.5  3.   7. ]\n",
            " [ nan 11.  12. ]]\n",
            "\n",
            " absolute\n",
            "[[ 2.5  3.   7. ]\n",
            " [ nan 11.  12. ]]\n",
            "\n",
            " sqrt\n",
            "[[       nan 1.73205081 2.64575131]\n",
            " [       nan 3.31662479 3.46410162]]\n",
            "\n",
            " exp\n",
            "[[8.20849986e-02 2.00855369e+01 1.09663316e+03]\n",
            " [           nan 5.98741417e+04 1.62754791e+05]]\n",
            "\n",
            " log\n",
            "[[       nan 1.09861229 1.94591015]\n",
            " [       nan 2.39789527 2.48490665]]\n",
            "\n",
            " sign\n",
            "[[-1.  1.  1.]\n",
            " [nan  1.  1.]]\n",
            "\n",
            " ceil\n",
            "[[-2.  3.  7.]\n",
            " [nan 11. 12.]]\n",
            "\n",
            " modf\n",
            "(array([[-0.5,  0. ,  0. ],\n",
            "       [ nan,  0. ,  0. ]]), array([[-2.,  3.,  7.],\n",
            "       [nan, 11., 12.]]))\n",
            "\n",
            " isnan\n",
            "[[False False False]\n",
            " [ True False False]]\n",
            "\n",
            " cos\n",
            "[[-0.80114362 -0.9899925   0.75390225]\n",
            " [        nan  0.0044257   0.84385396]]\n"
          ]
        },
        {
          "output_type": "stream",
          "name": "stderr",
          "text": [
            "/usr/local/lib/python3.7/dist-packages/ipykernel_launcher.py:5: RuntimeWarning: invalid value encountered in sqrt\n",
            "  \"\"\"\n",
            "/usr/local/lib/python3.7/dist-packages/ipykernel_launcher.py:5: RuntimeWarning: invalid value encountered in log\n",
            "  \"\"\"\n"
          ]
        }
      ]
    },
    {
      "cell_type": "markdown",
      "metadata": {
        "id": "dFtGC9-uamdH"
      },
      "source": [
        "# Array indexing\n",
        "## One-dimensional arrays\n",
        "One-dimensional NumPy arrays can be accessed more or less like regular python arrays:"
      ]
    },
    {
      "cell_type": "code",
      "metadata": {
        "id": "nIz5DU-2amdH",
        "colab": {
          "base_uri": "https://localhost:8080/"
        },
        "outputId": "2752cf43-4634-41f1-8c9e-07a58b4d2e47"
      },
      "source": [
        "a = np.array([1, 5, 3, 19, 13, 7, 3])\n",
        "a[3]"
      ],
      "execution_count": null,
      "outputs": [
        {
          "output_type": "execute_result",
          "data": {
            "text/plain": [
              "19"
            ]
          },
          "metadata": {},
          "execution_count": 180
        }
      ]
    },
    {
      "cell_type": "code",
      "metadata": {
        "id": "SqvBzbbSamdI",
        "colab": {
          "base_uri": "https://localhost:8080/"
        },
        "outputId": "6c889a4d-cf82-4727-92a5-2ea3de783b31"
      },
      "source": [
        "a[2:5]"
      ],
      "execution_count": null,
      "outputs": [
        {
          "output_type": "execute_result",
          "data": {
            "text/plain": [
              "array([ 3, 19, 13])"
            ]
          },
          "metadata": {},
          "execution_count": 66
        }
      ]
    },
    {
      "cell_type": "code",
      "metadata": {
        "id": "VblMbYF-amdI",
        "colab": {
          "base_uri": "https://localhost:8080/"
        },
        "outputId": "e00ee7de-29c7-412f-87ce-037f0f4f180c"
      },
      "source": [
        "a[2:-1]"
      ],
      "execution_count": null,
      "outputs": [
        {
          "output_type": "execute_result",
          "data": {
            "text/plain": [
              "array([ 3, 19, 13,  7])"
            ]
          },
          "metadata": {},
          "execution_count": 182
        }
      ]
    },
    {
      "cell_type": "code",
      "metadata": {
        "id": "6RHbrpoUamdI",
        "colab": {
          "base_uri": "https://localhost:8080/"
        },
        "outputId": "6c56fa0a-4f99-4a41-e021-d4ab78ec5a3b"
      },
      "source": [
        "a[:2]"
      ],
      "execution_count": null,
      "outputs": [
        {
          "output_type": "execute_result",
          "data": {
            "text/plain": [
              "array([1, 5])"
            ]
          },
          "metadata": {},
          "execution_count": 68
        }
      ]
    },
    {
      "cell_type": "code",
      "metadata": {
        "id": "mDpy7MvjamdI",
        "colab": {
          "base_uri": "https://localhost:8080/"
        },
        "outputId": "60a74dd9-7704-4655-8532-e37d63e08000"
      },
      "source": [
        "a[2::2]"
      ],
      "execution_count": null,
      "outputs": [
        {
          "output_type": "execute_result",
          "data": {
            "text/plain": [
              "array([ 3, 13,  3])"
            ]
          },
          "metadata": {},
          "execution_count": 69
        }
      ]
    },
    {
      "cell_type": "code",
      "metadata": {
        "id": "xgLDEXs2amdI",
        "colab": {
          "base_uri": "https://localhost:8080/"
        },
        "outputId": "2fbe91b2-17eb-4ded-fd05-676c3e30fa09"
      },
      "source": [
        "a[::-1]"
      ],
      "execution_count": null,
      "outputs": [
        {
          "output_type": "execute_result",
          "data": {
            "text/plain": [
              "array([ 3,  7, 13, 19,  3,  5,  1])"
            ]
          },
          "metadata": {},
          "execution_count": 70
        }
      ]
    },
    {
      "cell_type": "markdown",
      "metadata": {
        "id": "oqwvAB0RamdI"
      },
      "source": [
        "Of course, you can modify elements:"
      ]
    },
    {
      "cell_type": "code",
      "metadata": {
        "id": "vAHB4VuZamdI",
        "colab": {
          "base_uri": "https://localhost:8080/"
        },
        "outputId": "9622c38a-7cb0-4b1e-ca02-9b80ca78560d"
      },
      "source": [
        "a[3]=999\n",
        "a"
      ],
      "execution_count": null,
      "outputs": [
        {
          "output_type": "execute_result",
          "data": {
            "text/plain": [
              "array([  1,   5,   3, 999,  13,   7,   3])"
            ]
          },
          "metadata": {},
          "execution_count": 71
        }
      ]
    },
    {
      "cell_type": "markdown",
      "metadata": {
        "id": "WgIWLkfvamdJ"
      },
      "source": [
        "You can also modify an `ndarray` slice:"
      ]
    },
    {
      "cell_type": "code",
      "metadata": {
        "id": "_bNJQPdiamdJ",
        "colab": {
          "base_uri": "https://localhost:8080/"
        },
        "outputId": "075a6b0a-5371-4cd7-d25a-cb8b98c7fc2c"
      },
      "source": [
        "a[2:5] = [997, 998, 999]\n",
        "a"
      ],
      "execution_count": null,
      "outputs": [
        {
          "output_type": "execute_result",
          "data": {
            "text/plain": [
              "array([  1,   5, 997, 998, 999,   7,   3])"
            ]
          },
          "metadata": {},
          "execution_count": 72
        }
      ]
    },
    {
      "cell_type": "markdown",
      "metadata": {
        "id": "0gC4qa9vamdJ"
      },
      "source": [
        "## Differences with regular python arrays\n",
        "Contrary to regular python arrays, if you assign a single value to an `ndarray` slice, it is copied across the whole slice, thanks to broadcasting rules discussed above."
      ]
    },
    {
      "cell_type": "code",
      "metadata": {
        "id": "ql7hQB3oamdJ",
        "colab": {
          "base_uri": "https://localhost:8080/"
        },
        "outputId": "48b3398f-2e63-4d67-9c20-06022c85a2f9"
      },
      "source": [
        "a[2:5] = -1\n",
        "a"
      ],
      "execution_count": null,
      "outputs": [
        {
          "output_type": "execute_result",
          "data": {
            "text/plain": [
              "array([ 1,  5, -1, -1, -1,  7,  3])"
            ]
          },
          "metadata": {},
          "execution_count": 73
        }
      ]
    },
    {
      "cell_type": "markdown",
      "metadata": {
        "id": "bpt1dlevamdJ"
      },
      "source": [
        "Also, you cannot grow or shrink `ndarray`s this way:"
      ]
    },
    {
      "cell_type": "code",
      "metadata": {
        "scrolled": false,
        "id": "8aEMofJWamdJ",
        "colab": {
          "base_uri": "https://localhost:8080/"
        },
        "outputId": "2526ad7b-9c0d-4a34-f7d1-459e36579f88"
      },
      "source": [
        "try:\n",
        "    a[2:5] = [1,2,3,4,5,6\n",
        "              ]  # too long\n",
        "except ValueError as e:\n",
        "    print(e)"
      ],
      "execution_count": null,
      "outputs": [
        {
          "output_type": "stream",
          "name": "stdout",
          "text": [
            "cannot copy sequence with size 6 to array axis with dimension 3\n"
          ]
        }
      ]
    },
    {
      "cell_type": "markdown",
      "metadata": {
        "id": "ufSzkkrPamdJ"
      },
      "source": [
        "You cannot delete elements either:"
      ]
    },
    {
      "cell_type": "code",
      "metadata": {
        "id": "CSl_LK1yamdK",
        "colab": {
          "base_uri": "https://localhost:8080/"
        },
        "outputId": "abca653d-d674-472d-e459-4fc9b365252e"
      },
      "source": [
        "try:\n",
        "    del a[2:5]\n",
        "except ValueError as e:\n",
        "    print(e)"
      ],
      "execution_count": null,
      "outputs": [
        {
          "output_type": "stream",
          "name": "stdout",
          "text": [
            "cannot delete array elements\n"
          ]
        }
      ]
    },
    {
      "cell_type": "markdown",
      "metadata": {
        "id": "BZ6dW2sDamdK"
      },
      "source": [
        "Last but not least, `ndarray` **slices are actually *views*** on the same data buffer. This means that if you create a slice and modify it, you are actually going to modify the original `ndarray` as well!"
      ]
    },
    {
      "cell_type": "markdown",
      "metadata": {
        "id": "FY-Zm_32GE16"
      },
      "source": [
        "![copyVsview](https://external-content.duckduckgo.com/iu/?u=https%3A%2F%2Ftse1.mm.bing.net%2Fth%3Fid%3DOIP.mJ1omUzgzw--tQodqechWAHaFi%26pid%3DApi&f=1)"
      ]
    },
    {
      "cell_type": "code",
      "metadata": {
        "id": "20JnM4oUamdK",
        "colab": {
          "base_uri": "https://localhost:8080/"
        },
        "outputId": "0f3c6967-b63b-4579-b229-bdfd9fa4ac6e"
      },
      "source": [
        "a_slice = a[2:6]\n",
        "a_slice[1] = 1000\n",
        "a  # the original array was modified!"
      ],
      "execution_count": null,
      "outputs": [
        {
          "output_type": "execute_result",
          "data": {
            "text/plain": [
              "array([   1,    5,   -1, 1000,   -1,    7,    3])"
            ]
          },
          "metadata": {},
          "execution_count": 76
        }
      ]
    },
    {
      "cell_type": "code",
      "metadata": {
        "id": "jHkjXWPnamdK",
        "colab": {
          "base_uri": "https://localhost:8080/"
        },
        "outputId": "adc6b53a-a54b-4ca1-bd4c-7b3e830f8e04"
      },
      "source": [
        "a[3] = 2000\n",
        "a_slice  # similarly, modifying the original array modifies the slice!"
      ],
      "execution_count": null,
      "outputs": [
        {
          "output_type": "execute_result",
          "data": {
            "text/plain": [
              "array([  -1, 2000,   -1,    7])"
            ]
          },
          "metadata": {},
          "execution_count": 77
        }
      ]
    },
    {
      "cell_type": "markdown",
      "metadata": {
        "id": "aeDpLw0zamdK"
      },
      "source": [
        "If you want a copy of the data, you need to use the `copy` method:"
      ]
    },
    {
      "cell_type": "code",
      "metadata": {
        "id": "oLCaLkVmamdK",
        "colab": {
          "base_uri": "https://localhost:8080/"
        },
        "outputId": "2116941c-e1df-4924-a87f-5f566f4e7ca6"
      },
      "source": [
        "another_slice = a[2:6].copy()\n",
        "another_slice[1] = 3000\n",
        "a  # the original array is untouched"
      ],
      "execution_count": null,
      "outputs": [
        {
          "output_type": "execute_result",
          "data": {
            "text/plain": [
              "array([   1,    5,   -1, 2000,   -1,    7,    3])"
            ]
          },
          "metadata": {},
          "execution_count": 78
        }
      ]
    },
    {
      "cell_type": "code",
      "metadata": {
        "id": "7moi5SvtamdK",
        "colab": {
          "base_uri": "https://localhost:8080/"
        },
        "outputId": "3f1e29c7-4444-45ff-f6ba-7c5b508f30ef"
      },
      "source": [
        "a[3] = 4000\n",
        "another_slice  # similary, modifying the original array does not affect the slice copy"
      ],
      "execution_count": null,
      "outputs": [
        {
          "output_type": "execute_result",
          "data": {
            "text/plain": [
              "array([  -1, 3000,   -1,    7])"
            ]
          },
          "metadata": {},
          "execution_count": 79
        }
      ]
    },
    {
      "cell_type": "markdown",
      "metadata": {
        "id": "dM8ZhQ0zamdL"
      },
      "source": [
        "## Multi-dimensional arrays\n",
        "Multi-dimensional arrays can be accessed in a similar way by providing an index or slice for each axis, separated by commas:"
      ]
    },
    {
      "cell_type": "code",
      "metadata": {
        "id": "wvJiKIlWamdL",
        "colab": {
          "base_uri": "https://localhost:8080/"
        },
        "outputId": "880b48de-62b8-4ae3-bf22-74eb4c54e021"
      },
      "source": [
        "b = np.arange(48).reshape(4, 12)\n",
        "b"
      ],
      "execution_count": null,
      "outputs": [
        {
          "output_type": "execute_result",
          "data": {
            "text/plain": [
              "array([[ 0,  1,  2,  3,  4,  5,  6,  7,  8,  9, 10, 11],\n",
              "       [12, 13, 14, 15, 16, 17, 18, 19, 20, 21, 22, 23],\n",
              "       [24, 25, 26, 27, 28, 29, 30, 31, 32, 33, 34, 35],\n",
              "       [36, 37, 38, 39, 40, 41, 42, 43, 44, 45, 46, 47]])"
            ]
          },
          "metadata": {},
          "execution_count": 80
        }
      ]
    },
    {
      "cell_type": "code",
      "metadata": {
        "id": "NbL78RuNamdL",
        "colab": {
          "base_uri": "https://localhost:8080/"
        },
        "outputId": "6d954a3d-0f33-4f58-e78d-5ec03b306d33"
      },
      "source": [
        "b[1, 2]  # row 1, col 2"
      ],
      "execution_count": null,
      "outputs": [
        {
          "output_type": "execute_result",
          "data": {
            "text/plain": [
              "14"
            ]
          },
          "metadata": {},
          "execution_count": 203
        }
      ]
    },
    {
      "cell_type": "code",
      "metadata": {
        "id": "QLApTMtSamdL",
        "colab": {
          "base_uri": "https://localhost:8080/"
        },
        "outputId": "e142c20e-9faa-4c98-9ee0-e6ab6c98650f"
      },
      "source": [
        "b[1, :]  # row 1, all columns"
      ],
      "execution_count": null,
      "outputs": [
        {
          "output_type": "execute_result",
          "data": {
            "text/plain": [
              "array([12, 13, 14, 15, 16, 17, 18, 19, 20, 21, 22, 23])"
            ]
          },
          "metadata": {},
          "execution_count": 204
        }
      ]
    },
    {
      "cell_type": "code",
      "metadata": {
        "id": "N1tQzBRUamdL",
        "colab": {
          "base_uri": "https://localhost:8080/"
        },
        "outputId": "6e1e60ba-154c-4ced-d783-21107ac6a0f6"
      },
      "source": [
        "b[:, 1]  # all rows, column 1"
      ],
      "execution_count": null,
      "outputs": [
        {
          "output_type": "execute_result",
          "data": {
            "text/plain": [
              "array([ 1, 13, 25, 37])"
            ]
          },
          "metadata": {},
          "execution_count": 205
        }
      ]
    },
    {
      "cell_type": "markdown",
      "metadata": {
        "id": "UfiVhdhRamdL"
      },
      "source": [
        "**Caution**: note the subtle difference between these two expressions: "
      ]
    },
    {
      "cell_type": "code",
      "metadata": {
        "scrolled": true,
        "id": "8yh_a91XamdM",
        "colab": {
          "base_uri": "https://localhost:8080/"
        },
        "outputId": "3345c0c0-a35c-4463-95b2-50a170a8be84"
      },
      "source": [
        "b[1, :]"
      ],
      "execution_count": null,
      "outputs": [
        {
          "output_type": "execute_result",
          "data": {
            "text/plain": [
              "array([12, 13, 14, 15, 16, 17, 18, 19, 20, 21, 22, 23])"
            ]
          },
          "metadata": {},
          "execution_count": 206
        }
      ]
    },
    {
      "cell_type": "code",
      "metadata": {
        "id": "-ydzamfhamdM",
        "colab": {
          "base_uri": "https://localhost:8080/"
        },
        "outputId": "2b0e5e00-cd2a-4dfa-9134-997620db4c91"
      },
      "source": [
        "b[1:3, :]"
      ],
      "execution_count": null,
      "outputs": [
        {
          "output_type": "execute_result",
          "data": {
            "text/plain": [
              "array([[12, 13, 14, 15, 16, 17, 18, 19, 20, 21, 22, 23],\n",
              "       [24, 25, 26, 27, 28, 29, 30, 31, 32, 33, 34, 35]])"
            ]
          },
          "metadata": {},
          "execution_count": 208
        }
      ]
    },
    {
      "cell_type": "markdown",
      "metadata": {
        "id": "J_u7MH0iamdM"
      },
      "source": [
        "The first expression returns row 1 as a 1D array of shape `(12,)`, while the second returns that same row as a 2D array of shape `(1, 12)`."
      ]
    },
    {
      "cell_type": "markdown",
      "metadata": {
        "id": "nYdvAYGFamdM"
      },
      "source": [
        "## Fancy indexing\n",
        "You may also specify a list of indices that you are interested in. This is referred to as *fancy indexing*."
      ]
    },
    {
      "cell_type": "code",
      "metadata": {
        "colab": {
          "base_uri": "https://localhost:8080/"
        },
        "id": "abWNIDOiEd8a",
        "outputId": "d8628a6d-b3e4-4d98-b463-0ea852bc6b7d"
      },
      "source": [
        "b"
      ],
      "execution_count": null,
      "outputs": [
        {
          "output_type": "execute_result",
          "data": {
            "text/plain": [
              "array([[ 0,  1,  2,  3,  4,  5,  6,  7,  8,  9, 10, 11],\n",
              "       [12, 13, 14, 15, 16, 17, 18, 19, 20, 21, 22, 23],\n",
              "       [24, 25, 26, 27, 28, 29, 30, 31, 32, 33, 34, 35],\n",
              "       [36, 37, 38, 39, 40, 41, 42, 43, 44, 45, 46, 47]])"
            ]
          },
          "metadata": {},
          "execution_count": 185
        }
      ]
    },
    {
      "cell_type": "code",
      "metadata": {
        "scrolled": true,
        "id": "fSmKgl5bamdM",
        "colab": {
          "base_uri": "https://localhost:8080/"
        },
        "outputId": "0fa10e3f-79d6-42b8-ccf7-91475f17730c"
      },
      "source": [
        "b[(0,3), 2:5]  # rows 0 and 2, columns 2 to 4 (5-1)"
      ],
      "execution_count": null,
      "outputs": [
        {
          "output_type": "execute_result",
          "data": {
            "text/plain": [
              "array([[ 2,  3,  4],\n",
              "       [38, 39, 40]])"
            ]
          },
          "metadata": {},
          "execution_count": 184
        }
      ]
    },
    {
      "cell_type": "code",
      "metadata": {
        "id": "9V6VW7KNamdM",
        "colab": {
          "base_uri": "https://localhost:8080/"
        },
        "outputId": "eeae8589-0114-4e82-983a-043240da855d"
      },
      "source": [
        "b[:, (-1, 2, -1)]  # all rows, columns -1 (last), 2 and -1 (again, and in this order)"
      ],
      "execution_count": null,
      "outputs": [
        {
          "output_type": "execute_result",
          "data": {
            "text/plain": [
              "array([[11,  2, 11],\n",
              "       [23, 14, 23],\n",
              "       [35, 26, 35],\n",
              "       [47, 38, 47]])"
            ]
          },
          "metadata": {},
          "execution_count": 87
        }
      ]
    },
    {
      "cell_type": "markdown",
      "metadata": {
        "id": "gHCFY5PBamdM"
      },
      "source": [
        "If you provide multiple index arrays, you get a 1D `ndarray` containing the values of the elements at the specified coordinates."
      ]
    },
    {
      "cell_type": "code",
      "metadata": {
        "id": "B9yIzLvqamdN",
        "colab": {
          "base_uri": "https://localhost:8080/"
        },
        "outputId": "0e123ffb-2cf6-4a1f-afb9-3f38d499e377"
      },
      "source": [
        "b[(-1, 2, -1, 2), (5, 9, 1, 9)]  # returns a 1D array with b[-1, 5], b[2, 9], b[-1, 1] and b[2, 9] (again)"
      ],
      "execution_count": null,
      "outputs": [
        {
          "output_type": "execute_result",
          "data": {
            "text/plain": [
              "array([41, 33, 37, 33])"
            ]
          },
          "metadata": {},
          "execution_count": 88
        }
      ]
    },
    {
      "cell_type": "markdown",
      "metadata": {
        "id": "iXl676dTamdN"
      },
      "source": [
        "## Higher dimensions\n",
        "Everything works just as well with higher dimensional arrays, but it's useful to look at a few examples:"
      ]
    },
    {
      "cell_type": "code",
      "metadata": {
        "id": "lRb3eNgwamdN",
        "colab": {
          "base_uri": "https://localhost:8080/"
        },
        "outputId": "d54e4301-014c-4bd6-8b6e-c42dab1f68f1"
      },
      "source": [
        "c = b.reshape(4,2,6)\n",
        "c"
      ],
      "execution_count": null,
      "outputs": [
        {
          "output_type": "execute_result",
          "data": {
            "text/plain": [
              "array([[[ 0,  1,  2,  3,  4,  5],\n",
              "        [ 6,  7,  8,  9, 10, 11]],\n",
              "\n",
              "       [[12, 13, 14, 15, 16, 17],\n",
              "        [18, 19, 20, 21, 22, 23]],\n",
              "\n",
              "       [[24, 25, 26, 27, 28, 29],\n",
              "        [30, 31, 32, 33, 34, 35]],\n",
              "\n",
              "       [[36, 37, 38, 39, 40, 41],\n",
              "        [42, 43, 44, 45, 46, 47]]])"
            ]
          },
          "metadata": {},
          "execution_count": 89
        }
      ]
    },
    {
      "cell_type": "code",
      "metadata": {
        "id": "ZOKlfcy-amdN",
        "colab": {
          "base_uri": "https://localhost:8080/"
        },
        "outputId": "35b3ac77-c09e-4111-b36f-7eaac95cfc51"
      },
      "source": [
        "c[2, 1, 4]  # matrix 2, row 1, col 4"
      ],
      "execution_count": null,
      "outputs": [
        {
          "output_type": "execute_result",
          "data": {
            "text/plain": [
              "34"
            ]
          },
          "metadata": {},
          "execution_count": 90
        }
      ]
    },
    {
      "cell_type": "code",
      "metadata": {
        "id": "WJkxtEvramdN",
        "colab": {
          "base_uri": "https://localhost:8080/"
        },
        "outputId": "d82b2577-d083-4497-d271-9dda7589d384"
      },
      "source": [
        "c[2, :, 3]  # matrix 2, all rows, col 3"
      ],
      "execution_count": null,
      "outputs": [
        {
          "output_type": "execute_result",
          "data": {
            "text/plain": [
              "array([27, 33])"
            ]
          },
          "metadata": {},
          "execution_count": 91
        }
      ]
    },
    {
      "cell_type": "markdown",
      "metadata": {
        "id": "Y6xOKqW8amdO"
      },
      "source": [
        "If you omit coordinates for some axes, then all elements in these axes are returned:"
      ]
    },
    {
      "cell_type": "code",
      "metadata": {
        "id": "SFb88d7damdO",
        "colab": {
          "base_uri": "https://localhost:8080/"
        },
        "outputId": "0ec3be43-6ff6-4f17-bc0c-ca69ac7095c7"
      },
      "source": [
        "c[2, 1]  # Return matrix 2, row 1, all columns.  This is equivalent to c[2, 1, :]"
      ],
      "execution_count": null,
      "outputs": [
        {
          "output_type": "execute_result",
          "data": {
            "text/plain": [
              "array([30, 31, 32, 33, 34, 35])"
            ]
          },
          "metadata": {},
          "execution_count": 92
        }
      ]
    },
    {
      "cell_type": "markdown",
      "metadata": {
        "id": "Cbc3WzSaamdR"
      },
      "source": [
        "# Stacking arrays\n",
        "It is often useful to stack together different arrays. NumPy offers several functions to do just that. Let's start by creating a few arrays."
      ]
    },
    {
      "cell_type": "code",
      "metadata": {
        "id": "nCuwdMJjamdR",
        "colab": {
          "base_uri": "https://localhost:8080/"
        },
        "outputId": "e66fa26c-6daf-4a53-d7bf-2a5828446007"
      },
      "source": [
        "q1 = np.full((3,4), 1.0)\n",
        "q1"
      ],
      "execution_count": null,
      "outputs": [
        {
          "output_type": "execute_result",
          "data": {
            "text/plain": [
              "array([[1., 1., 1., 1.],\n",
              "       [1., 1., 1., 1.],\n",
              "       [1., 1., 1., 1.]])"
            ]
          },
          "metadata": {},
          "execution_count": 93
        }
      ]
    },
    {
      "cell_type": "code",
      "metadata": {
        "id": "PDEk1zxcamdR",
        "colab": {
          "base_uri": "https://localhost:8080/"
        },
        "outputId": "fd98a494-b46c-4980-cfcc-48095194df30"
      },
      "source": [
        "q2 = np.full((4,4), 2.0)\n",
        "q2"
      ],
      "execution_count": null,
      "outputs": [
        {
          "output_type": "execute_result",
          "data": {
            "text/plain": [
              "array([[2., 2., 2., 2.],\n",
              "       [2., 2., 2., 2.],\n",
              "       [2., 2., 2., 2.],\n",
              "       [2., 2., 2., 2.]])"
            ]
          },
          "metadata": {},
          "execution_count": 94
        }
      ]
    },
    {
      "cell_type": "code",
      "metadata": {
        "id": "h1fOT1zqamdR",
        "colab": {
          "base_uri": "https://localhost:8080/"
        },
        "outputId": "fb46ba12-3f46-4733-f82c-af5862856dfb"
      },
      "source": [
        "q3 = np.full((3,4), 3.0)\n",
        "q3"
      ],
      "execution_count": null,
      "outputs": [
        {
          "output_type": "execute_result",
          "data": {
            "text/plain": [
              "array([[3., 3., 3., 3.],\n",
              "       [3., 3., 3., 3.],\n",
              "       [3., 3., 3., 3.]])"
            ]
          },
          "metadata": {},
          "execution_count": 95
        }
      ]
    },
    {
      "cell_type": "markdown",
      "metadata": {
        "id": "xXYzwJQNamdU"
      },
      "source": [
        "## `vstack`\n",
        "Now let's stack them vertically using `vstack`:"
      ]
    },
    {
      "cell_type": "code",
      "metadata": {
        "id": "0C0TAV4BamdU",
        "colab": {
          "base_uri": "https://localhost:8080/"
        },
        "outputId": "bd57f525-71e6-4695-da64-d98c5be3c451"
      },
      "source": [
        "q4 = np.vstack((q1, q2, q3))\n",
        "q4"
      ],
      "execution_count": null,
      "outputs": [
        {
          "output_type": "execute_result",
          "data": {
            "text/plain": [
              "array([[1., 1., 1., 1.],\n",
              "       [1., 1., 1., 1.],\n",
              "       [1., 1., 1., 1.],\n",
              "       [2., 2., 2., 2.],\n",
              "       [2., 2., 2., 2.],\n",
              "       [2., 2., 2., 2.],\n",
              "       [2., 2., 2., 2.],\n",
              "       [3., 3., 3., 3.],\n",
              "       [3., 3., 3., 3.],\n",
              "       [3., 3., 3., 3.]])"
            ]
          },
          "metadata": {},
          "execution_count": 96
        }
      ]
    },
    {
      "cell_type": "code",
      "metadata": {
        "id": "t-QbLZJLamdU",
        "colab": {
          "base_uri": "https://localhost:8080/"
        },
        "outputId": "b56196b9-c84e-4114-c85c-3c7013ece885"
      },
      "source": [
        "q4.shape"
      ],
      "execution_count": null,
      "outputs": [
        {
          "output_type": "execute_result",
          "data": {
            "text/plain": [
              "(10, 4)"
            ]
          },
          "metadata": {},
          "execution_count": 97
        }
      ]
    },
    {
      "cell_type": "markdown",
      "metadata": {
        "id": "isDg3ezwamdV"
      },
      "source": [
        "This was possible because q1, q2 and q3 all have the same shape (except for the vertical axis, but that's ok since we are stacking on that axis).\n",
        "\n",
        "## `hstack`\n",
        "We can also stack arrays horizontally using `hstack`:"
      ]
    },
    {
      "cell_type": "code",
      "metadata": {
        "id": "F6kW90NlamdV",
        "colab": {
          "base_uri": "https://localhost:8080/"
        },
        "outputId": "bfa6e80a-7a35-4727-91a4-4edab79d81c7"
      },
      "source": [
        "q5 = np.hstack((q1, q3))\n",
        "q5"
      ],
      "execution_count": null,
      "outputs": [
        {
          "output_type": "execute_result",
          "data": {
            "text/plain": [
              "array([[1., 1., 1., 1., 3., 3., 3., 3.],\n",
              "       [1., 1., 1., 1., 3., 3., 3., 3.],\n",
              "       [1., 1., 1., 1., 3., 3., 3., 3.]])"
            ]
          },
          "metadata": {},
          "execution_count": 98
        }
      ]
    },
    {
      "cell_type": "code",
      "metadata": {
        "id": "NV1ruK7zamdW",
        "colab": {
          "base_uri": "https://localhost:8080/"
        },
        "outputId": "afdb542c-a316-45e6-f664-c47ea13c922b"
      },
      "source": [
        "q5.shape"
      ],
      "execution_count": null,
      "outputs": [
        {
          "output_type": "execute_result",
          "data": {
            "text/plain": [
              "(3, 8)"
            ]
          },
          "metadata": {},
          "execution_count": 99
        }
      ]
    },
    {
      "cell_type": "markdown",
      "metadata": {
        "id": "wdpYDzliamdW"
      },
      "source": [
        "This is possible because q1 and q3 both have 3 rows. But since q2 has 4 rows, it cannot be stacked horizontally with q1 and q3:"
      ]
    },
    {
      "cell_type": "markdown",
      "metadata": {
        "id": "HKEpLF3zamdY"
      },
      "source": [
        "## `concatenate`\n",
        "The `concatenate` function stacks arrays along any given existing axis."
      ]
    },
    {
      "cell_type": "code",
      "metadata": {
        "id": "7Q0-W_XJamdY",
        "colab": {
          "base_uri": "https://localhost:8080/"
        },
        "outputId": "3e05e390-6573-4140-f142-09ccccb83736"
      },
      "source": [
        "q7 = np.concatenate((q1, q2, q3), axis=0)  # Equivalent to vstack\n",
        "q7"
      ],
      "execution_count": null,
      "outputs": [
        {
          "output_type": "execute_result",
          "data": {
            "text/plain": [
              "array([[1., 1., 1., 1.],\n",
              "       [1., 1., 1., 1.],\n",
              "       [1., 1., 1., 1.],\n",
              "       [2., 2., 2., 2.],\n",
              "       [2., 2., 2., 2.],\n",
              "       [2., 2., 2., 2.],\n",
              "       [2., 2., 2., 2.],\n",
              "       [3., 3., 3., 3.],\n",
              "       [3., 3., 3., 3.],\n",
              "       [3., 3., 3., 3.]])"
            ]
          },
          "metadata": {},
          "execution_count": 100
        }
      ]
    },
    {
      "cell_type": "code",
      "metadata": {
        "id": "qhc1qSZvamdY",
        "colab": {
          "base_uri": "https://localhost:8080/"
        },
        "outputId": "80d5cbb1-1e30-46cc-ce80-82fe7c837180"
      },
      "source": [
        "q7.shape"
      ],
      "execution_count": null,
      "outputs": [
        {
          "output_type": "execute_result",
          "data": {
            "text/plain": [
              "(10, 4)"
            ]
          },
          "metadata": {},
          "execution_count": 101
        }
      ]
    },
    {
      "cell_type": "markdown",
      "metadata": {
        "id": "AFfYMFTramdZ"
      },
      "source": [
        "As you might guess, `hstack` is equivalent to calling `concatenate` with `axis=1`."
      ]
    },
    {
      "cell_type": "markdown",
      "metadata": {
        "id": "mzVBDVy0amdZ"
      },
      "source": [
        "## `stack`\n",
        "The `stack` function stacks arrays along a new axis. All arrays have to have the same shape."
      ]
    },
    {
      "cell_type": "code",
      "metadata": {
        "id": "8aidA-bDamdZ",
        "colab": {
          "base_uri": "https://localhost:8080/"
        },
        "outputId": "63aa8723-85d0-4f04-9b94-4e06ac5e496d"
      },
      "source": [
        "q8 = np.stack((q1, q3))\n",
        "q8"
      ],
      "execution_count": null,
      "outputs": [
        {
          "output_type": "execute_result",
          "data": {
            "text/plain": [
              "array([[[1., 1., 1., 1.],\n",
              "        [1., 1., 1., 1.],\n",
              "        [1., 1., 1., 1.]],\n",
              "\n",
              "       [[3., 3., 3., 3.],\n",
              "        [3., 3., 3., 3.],\n",
              "        [3., 3., 3., 3.]]])"
            ]
          },
          "metadata": {},
          "execution_count": 102
        }
      ]
    },
    {
      "cell_type": "code",
      "metadata": {
        "id": "_QcdeLexamda",
        "colab": {
          "base_uri": "https://localhost:8080/"
        },
        "outputId": "47974868-2051-4b3c-edb9-f3b9dfd297a0"
      },
      "source": [
        "q8.shape"
      ],
      "execution_count": null,
      "outputs": [
        {
          "output_type": "execute_result",
          "data": {
            "text/plain": [
              "(2, 3, 4)"
            ]
          },
          "metadata": {},
          "execution_count": 103
        }
      ]
    },
    {
      "cell_type": "markdown",
      "metadata": {
        "id": "M1s3jWtBamda"
      },
      "source": [
        "# Splitting arrays\n",
        "Splitting is the opposite of stacking. For example, let's use the `vsplit` function to split a matrix vertically.\n",
        "\n",
        "First let's create a 6x4 matrix:"
      ]
    },
    {
      "cell_type": "code",
      "metadata": {
        "id": "_m-EGheoamdb",
        "colab": {
          "base_uri": "https://localhost:8080/"
        },
        "outputId": "61c9d367-b40c-4118-b4ed-20f9263832a9"
      },
      "source": [
        "r = np.arange(24).reshape(6,4)\n",
        "r"
      ],
      "execution_count": null,
      "outputs": [
        {
          "output_type": "execute_result",
          "data": {
            "text/plain": [
              "array([[ 0,  1,  2,  3],\n",
              "       [ 4,  5,  6,  7],\n",
              "       [ 8,  9, 10, 11],\n",
              "       [12, 13, 14, 15],\n",
              "       [16, 17, 18, 19],\n",
              "       [20, 21, 22, 23]])"
            ]
          },
          "metadata": {},
          "execution_count": 104
        }
      ]
    },
    {
      "cell_type": "markdown",
      "metadata": {
        "id": "TkRB6vy3amdb"
      },
      "source": [
        "Now let's split it in three equal parts, vertically:"
      ]
    },
    {
      "cell_type": "code",
      "metadata": {
        "id": "vWeJAJDWamdb",
        "colab": {
          "base_uri": "https://localhost:8080/"
        },
        "outputId": "d5c2cb74-e3d4-403a-8125-2b3e08ce3cc7"
      },
      "source": [
        "r1, r2, r3 = np.vsplit(r, 3)\n",
        "r1"
      ],
      "execution_count": null,
      "outputs": [
        {
          "output_type": "execute_result",
          "data": {
            "text/plain": [
              "array([[0, 1, 2, 3],\n",
              "       [4, 5, 6, 7]])"
            ]
          },
          "metadata": {},
          "execution_count": 105
        }
      ]
    },
    {
      "cell_type": "code",
      "metadata": {
        "id": "iCG5ZNK7amdd",
        "colab": {
          "base_uri": "https://localhost:8080/"
        },
        "outputId": "d4342411-8063-44a1-9b90-031ec7f8904a"
      },
      "source": [
        "r2"
      ],
      "execution_count": null,
      "outputs": [
        {
          "output_type": "execute_result",
          "data": {
            "text/plain": [
              "array([[ 8,  9, 10, 11],\n",
              "       [12, 13, 14, 15]])"
            ]
          },
          "metadata": {},
          "execution_count": 106
        }
      ]
    },
    {
      "cell_type": "code",
      "metadata": {
        "id": "DrdiPyyvamdd",
        "colab": {
          "base_uri": "https://localhost:8080/"
        },
        "outputId": "752eb5ca-8b17-4a55-95b8-b6e7ed92d569"
      },
      "source": [
        "r3"
      ],
      "execution_count": null,
      "outputs": [
        {
          "output_type": "execute_result",
          "data": {
            "text/plain": [
              "array([[16, 17, 18, 19],\n",
              "       [20, 21, 22, 23]])"
            ]
          },
          "metadata": {},
          "execution_count": 107
        }
      ]
    },
    {
      "cell_type": "markdown",
      "metadata": {
        "id": "YzS9cbXVamde"
      },
      "source": [
        "There is also a `split` function which splits an array along any given axis. Calling `vsplit` is equivalent to calling `split` with `axis=0`. There is also an `hsplit` function, equivalent to calling `split` with `axis=1`:"
      ]
    },
    {
      "cell_type": "code",
      "metadata": {
        "id": "WcoLaYCiamde",
        "colab": {
          "base_uri": "https://localhost:8080/"
        },
        "outputId": "b1bee483-8324-4759-9b77-c4c0fa278445"
      },
      "source": [
        "r4, r5 = np.hsplit(r, 2)\n",
        "r4"
      ],
      "execution_count": null,
      "outputs": [
        {
          "output_type": "execute_result",
          "data": {
            "text/plain": [
              "array([[ 0,  1],\n",
              "       [ 4,  5],\n",
              "       [ 8,  9],\n",
              "       [12, 13],\n",
              "       [16, 17],\n",
              "       [20, 21]])"
            ]
          },
          "metadata": {},
          "execution_count": 108
        }
      ]
    },
    {
      "cell_type": "code",
      "metadata": {
        "id": "wdodq1qPamde",
        "colab": {
          "base_uri": "https://localhost:8080/"
        },
        "outputId": "5f5a1e98-383d-4099-a2fa-272f6cb0713c"
      },
      "source": [
        "r5"
      ],
      "execution_count": null,
      "outputs": [
        {
          "output_type": "execute_result",
          "data": {
            "text/plain": [
              "array([[ 2,  3],\n",
              "       [ 6,  7],\n",
              "       [10, 11],\n",
              "       [14, 15],\n",
              "       [18, 19],\n",
              "       [22, 23]])"
            ]
          },
          "metadata": {},
          "execution_count": 109
        }
      ]
    },
    {
      "cell_type": "markdown",
      "metadata": {
        "id": "35p8elt5amdf"
      },
      "source": [
        "# Transposing arrays\n",
        "The `transpose` method creates a new view on an `ndarray`'s data, with axes permuted in the given order.\n",
        "\n",
        "For example, let's create a 3D array:"
      ]
    },
    {
      "cell_type": "code",
      "metadata": {
        "id": "otUh7S1Camdf",
        "colab": {
          "base_uri": "https://localhost:8080/"
        },
        "outputId": "f336cd91-abf7-4673-c6ab-5d9741317181"
      },
      "source": [
        "t = np.arange(24).reshape(4,2,3)\n",
        "t"
      ],
      "execution_count": null,
      "outputs": [
        {
          "output_type": "execute_result",
          "data": {
            "text/plain": [
              "array([[[ 0,  1,  2],\n",
              "        [ 3,  4,  5]],\n",
              "\n",
              "       [[ 6,  7,  8],\n",
              "        [ 9, 10, 11]],\n",
              "\n",
              "       [[12, 13, 14],\n",
              "        [15, 16, 17]],\n",
              "\n",
              "       [[18, 19, 20],\n",
              "        [21, 22, 23]]])"
            ]
          },
          "metadata": {},
          "execution_count": 110
        }
      ]
    },
    {
      "cell_type": "markdown",
      "metadata": {
        "id": "78zRrIwxamdf"
      },
      "source": [
        "Now let's create an `ndarray` such that the axes `0, 1, 2` (depth, height, width) are re-ordered to `1, 2, 0` (depth→width, height→depth, width→height):"
      ]
    },
    {
      "cell_type": "code",
      "metadata": {
        "id": "UYywXzR7amdf",
        "colab": {
          "base_uri": "https://localhost:8080/"
        },
        "outputId": "237cccde-473b-4b8e-dbec-0c23bc87f7a0"
      },
      "source": [
        "t1 = t.transpose((1,2,0))\n",
        "t1"
      ],
      "execution_count": null,
      "outputs": [
        {
          "output_type": "execute_result",
          "data": {
            "text/plain": [
              "array([[[ 0,  6, 12, 18],\n",
              "        [ 1,  7, 13, 19],\n",
              "        [ 2,  8, 14, 20]],\n",
              "\n",
              "       [[ 3,  9, 15, 21],\n",
              "        [ 4, 10, 16, 22],\n",
              "        [ 5, 11, 17, 23]]])"
            ]
          },
          "metadata": {},
          "execution_count": 111
        }
      ]
    },
    {
      "cell_type": "code",
      "metadata": {
        "id": "oWLMH2xeamdf",
        "colab": {
          "base_uri": "https://localhost:8080/"
        },
        "outputId": "fe14bae0-d6cc-4734-97dd-bab1ad7b70de"
      },
      "source": [
        "t1.shape"
      ],
      "execution_count": null,
      "outputs": [
        {
          "output_type": "execute_result",
          "data": {
            "text/plain": [
              "(2, 3, 4)"
            ]
          },
          "metadata": {},
          "execution_count": 112
        }
      ]
    },
    {
      "cell_type": "markdown",
      "metadata": {
        "id": "Zto4Pehoamdg"
      },
      "source": [
        "By default, `transpose` reverses the order of the dimensions:"
      ]
    },
    {
      "cell_type": "code",
      "metadata": {
        "id": "196G3Pklamdg",
        "colab": {
          "base_uri": "https://localhost:8080/"
        },
        "outputId": "533614bc-ee68-493f-d7e2-cf4ccf433612"
      },
      "source": [
        "t2 = t.transpose()  # equivalent to t.transpose((2, 1, 0))\n",
        "t2"
      ],
      "execution_count": null,
      "outputs": [
        {
          "output_type": "execute_result",
          "data": {
            "text/plain": [
              "array([[[ 0,  6, 12, 18],\n",
              "        [ 3,  9, 15, 21]],\n",
              "\n",
              "       [[ 1,  7, 13, 19],\n",
              "        [ 4, 10, 16, 22]],\n",
              "\n",
              "       [[ 2,  8, 14, 20],\n",
              "        [ 5, 11, 17, 23]]])"
            ]
          },
          "metadata": {},
          "execution_count": 113
        }
      ]
    },
    {
      "cell_type": "code",
      "metadata": {
        "id": "V0C1DoyLamdg",
        "colab": {
          "base_uri": "https://localhost:8080/"
        },
        "outputId": "db57cfde-523c-4304-9991-75775132301b"
      },
      "source": [
        "t2.shape"
      ],
      "execution_count": null,
      "outputs": [
        {
          "output_type": "execute_result",
          "data": {
            "text/plain": [
              "(3, 2, 4)"
            ]
          },
          "metadata": {},
          "execution_count": 114
        }
      ]
    },
    {
      "cell_type": "markdown",
      "metadata": {
        "id": "-mqS7SaSamdh"
      },
      "source": [
        "# Linear algebra\n",
        "NumPy 2D arrays can be used to represent matrices efficiently in python. We will just quickly go through some of the main matrix operations available. For more details about Linear Algebra, vectors and matrics, go through the Linear Algebra tutorial\n",
        "\n",
        "## Matrix transpose\n",
        "The `T` attribute is equivalent to calling `transpose()` when the rank is ≥2:"
      ]
    },
    {
      "cell_type": "code",
      "metadata": {
        "id": "0k2TSxPRamdi",
        "colab": {
          "base_uri": "https://localhost:8080/"
        },
        "outputId": "9abe3f31-ad43-4bac-c9ca-8b6035f951d7"
      },
      "source": [
        "m1 = np.arange(10).reshape(2,5)\n",
        "m1"
      ],
      "execution_count": null,
      "outputs": [
        {
          "output_type": "execute_result",
          "data": {
            "text/plain": [
              "array([[0, 1, 2, 3, 4],\n",
              "       [5, 6, 7, 8, 9]])"
            ]
          },
          "metadata": {},
          "execution_count": 115
        }
      ]
    },
    {
      "cell_type": "code",
      "metadata": {
        "id": "WampAOxNamdi",
        "colab": {
          "base_uri": "https://localhost:8080/"
        },
        "outputId": "3a12c36e-bb2a-426a-aad2-556e1f98f591"
      },
      "source": [
        "m1.T"
      ],
      "execution_count": null,
      "outputs": [
        {
          "output_type": "execute_result",
          "data": {
            "text/plain": [
              "array([[0, 5],\n",
              "       [1, 6],\n",
              "       [2, 7],\n",
              "       [3, 8],\n",
              "       [4, 9]])"
            ]
          },
          "metadata": {},
          "execution_count": 116
        }
      ]
    },
    {
      "cell_type": "markdown",
      "metadata": {
        "id": "Xhi71Bjramdi"
      },
      "source": [
        "The `T` attribute has no effect on rank 0 (empty) or rank 1 arrays:"
      ]
    },
    {
      "cell_type": "code",
      "metadata": {
        "scrolled": true,
        "id": "7RXJx0gaamdi",
        "colab": {
          "base_uri": "https://localhost:8080/"
        },
        "outputId": "fa515af8-0fb0-423d-905e-a5a05cc15023"
      },
      "source": [
        "m2 = np.arange(5)\n",
        "m2"
      ],
      "execution_count": null,
      "outputs": [
        {
          "output_type": "execute_result",
          "data": {
            "text/plain": [
              "array([0, 1, 2, 3, 4])"
            ]
          },
          "metadata": {},
          "execution_count": 117
        }
      ]
    },
    {
      "cell_type": "code",
      "metadata": {
        "scrolled": true,
        "id": "gUWjgB-Camdj",
        "colab": {
          "base_uri": "https://localhost:8080/"
        },
        "outputId": "c8b1e759-48f1-40a2-bcc2-956a816936fb"
      },
      "source": [
        "m2.T"
      ],
      "execution_count": null,
      "outputs": [
        {
          "output_type": "execute_result",
          "data": {
            "text/plain": [
              "array([0, 1, 2, 3, 4])"
            ]
          },
          "metadata": {},
          "execution_count": 118
        }
      ]
    },
    {
      "cell_type": "markdown",
      "metadata": {
        "id": "mmePGWDkamdj"
      },
      "source": [
        "We can get the desired transposition by first reshaping the 1D array to a single-row matrix (2D):"
      ]
    },
    {
      "cell_type": "code",
      "metadata": {
        "id": "BLIgixrfamdj",
        "colab": {
          "base_uri": "https://localhost:8080/"
        },
        "outputId": "e5fc2d9e-adef-49cc-ef49-5763dc67143e"
      },
      "source": [
        "m2r = m2.reshape(1,5)\n",
        "m2r"
      ],
      "execution_count": null,
      "outputs": [
        {
          "output_type": "execute_result",
          "data": {
            "text/plain": [
              "array([[0, 1, 2, 3, 4]])"
            ]
          },
          "metadata": {},
          "execution_count": 119
        }
      ]
    },
    {
      "cell_type": "code",
      "metadata": {
        "id": "FDWN7ovGamdl",
        "colab": {
          "base_uri": "https://localhost:8080/"
        },
        "outputId": "28b8bfae-9857-468c-e049-9be6a729a006"
      },
      "source": [
        "m2r.T"
      ],
      "execution_count": null,
      "outputs": [
        {
          "output_type": "execute_result",
          "data": {
            "text/plain": [
              "array([[0],\n",
              "       [1],\n",
              "       [2],\n",
              "       [3],\n",
              "       [4]])"
            ]
          },
          "metadata": {},
          "execution_count": 120
        }
      ]
    },
    {
      "cell_type": "markdown",
      "metadata": {
        "id": "Czs6X0c1amdl"
      },
      "source": [
        "## Matrix dot product\n",
        "Let's create two matrices and execute a matrix dot product using the `dot` method."
      ]
    },
    {
      "cell_type": "code",
      "metadata": {
        "id": "FfUg4QBXamdl",
        "colab": {
          "base_uri": "https://localhost:8080/"
        },
        "outputId": "65b9de3e-568c-413f-ecb5-9927ad82b1f7"
      },
      "source": [
        "n1 = np.arange(10).reshape(2, 5)\n",
        "n1"
      ],
      "execution_count": null,
      "outputs": [
        {
          "output_type": "execute_result",
          "data": {
            "text/plain": [
              "array([[0, 1, 2, 3, 4],\n",
              "       [5, 6, 7, 8, 9]])"
            ]
          },
          "metadata": {},
          "execution_count": 121
        }
      ]
    },
    {
      "cell_type": "code",
      "metadata": {
        "id": "xvCkQarZamdm",
        "colab": {
          "base_uri": "https://localhost:8080/"
        },
        "outputId": "e1f470dd-aa81-4b24-d92b-58271fbb3244"
      },
      "source": [
        "n2 = np.arange(15).reshape(5,3)\n",
        "n2"
      ],
      "execution_count": null,
      "outputs": [
        {
          "output_type": "execute_result",
          "data": {
            "text/plain": [
              "array([[ 0,  1,  2],\n",
              "       [ 3,  4,  5],\n",
              "       [ 6,  7,  8],\n",
              "       [ 9, 10, 11],\n",
              "       [12, 13, 14]])"
            ]
          },
          "metadata": {},
          "execution_count": 122
        }
      ]
    },
    {
      "cell_type": "code",
      "metadata": {
        "id": "r-LGtDBYamdm",
        "colab": {
          "base_uri": "https://localhost:8080/"
        },
        "outputId": "3a2c2e50-87d6-42cf-d41e-5886c9f9f199"
      },
      "source": [
        "n1.dot(n2)"
      ],
      "execution_count": null,
      "outputs": [
        {
          "output_type": "execute_result",
          "data": {
            "text/plain": [
              "array([[ 90, 100, 110],\n",
              "       [240, 275, 310]])"
            ]
          },
          "metadata": {},
          "execution_count": 123
        }
      ]
    },
    {
      "cell_type": "markdown",
      "metadata": {
        "id": "0atp0H2camdm"
      },
      "source": [
        "**Caution**: as mentionned previously, `n1*n2` is *not* a dot product, it is an elementwise product."
      ]
    },
    {
      "cell_type": "markdown",
      "metadata": {
        "id": "gRjA0WW8amdm"
      },
      "source": [
        "## Matrix inverse \n",
        "Many of the linear algebra functions are available in the `numpy.linalg` module, in particular the `inv` function to compute a square matrix's inverse:"
      ]
    },
    {
      "cell_type": "code",
      "metadata": {
        "id": "cKrDXYxKamdm",
        "colab": {
          "base_uri": "https://localhost:8080/"
        },
        "outputId": "f353712d-955e-4350-8885-b36d3a29dc10"
      },
      "source": [
        "import numpy.linalg as linalg\n",
        "\n",
        "m3 = np.array([[1,2,3],[5,7,11],[21,29,31]])\n",
        "m3"
      ],
      "execution_count": null,
      "outputs": [
        {
          "output_type": "execute_result",
          "data": {
            "text/plain": [
              "array([[ 1,  2,  3],\n",
              "       [ 5,  7, 11],\n",
              "       [21, 29, 31]])"
            ]
          },
          "metadata": {},
          "execution_count": 124
        }
      ]
    },
    {
      "cell_type": "code",
      "metadata": {
        "id": "oLFRue9jamdn",
        "colab": {
          "base_uri": "https://localhost:8080/"
        },
        "outputId": "8edc746b-cf17-4c42-ec8e-e114f66daa97"
      },
      "source": [
        "linalg.inv(m3)"
      ],
      "execution_count": null,
      "outputs": [
        {
          "output_type": "execute_result",
          "data": {
            "text/plain": [
              "array([[-2.31818182,  0.56818182,  0.02272727],\n",
              "       [ 1.72727273, -0.72727273,  0.09090909],\n",
              "       [-0.04545455,  0.29545455, -0.06818182]])"
            ]
          },
          "metadata": {},
          "execution_count": 125
        }
      ]
    },
    {
      "cell_type": "markdown",
      "metadata": {
        "id": "QCdWFJnxamdw"
      },
      "source": [
        "## Identity matrix\n",
        "The product of a matrix by its inverse returns the identiy matrix (with small floating point errors):"
      ]
    },
    {
      "cell_type": "code",
      "metadata": {
        "id": "CFBUqeYramdw",
        "colab": {
          "base_uri": "https://localhost:8080/"
        },
        "outputId": "c7be7617-c076-4541-d5fb-5f117c84f51d"
      },
      "source": [
        "m3.dot(linalg.inv(m3))"
      ],
      "execution_count": null,
      "outputs": [
        {
          "output_type": "execute_result",
          "data": {
            "text/plain": [
              "array([[ 1.00000000e+00, -1.66533454e-16,  0.00000000e+00],\n",
              "       [ 6.31439345e-16,  1.00000000e+00, -1.38777878e-16],\n",
              "       [ 5.21110932e-15, -2.38697950e-15,  1.00000000e+00]])"
            ]
          },
          "metadata": {},
          "execution_count": 126
        }
      ]
    },
    {
      "cell_type": "markdown",
      "metadata": {
        "id": "j6IMMN85amdw"
      },
      "source": [
        "You can create an identity matrix of size NxN by calling `eye`:"
      ]
    },
    {
      "cell_type": "code",
      "metadata": {
        "id": "5JuDfdX-amdw",
        "colab": {
          "base_uri": "https://localhost:8080/"
        },
        "outputId": "01288743-e2e2-4e11-c688-69d2e48db65b"
      },
      "source": [
        "np.eye(3)"
      ],
      "execution_count": null,
      "outputs": [
        {
          "output_type": "execute_result",
          "data": {
            "text/plain": [
              "array([[1., 0., 0.],\n",
              "       [0., 1., 0.],\n",
              "       [0., 0., 1.]])"
            ]
          },
          "metadata": {},
          "execution_count": 127
        }
      ]
    },
    {
      "cell_type": "markdown",
      "metadata": {
        "id": "YF2YDv6jamdy"
      },
      "source": [
        "## Determinant\n",
        "The `det` function computes the matrix determinant"
      ]
    },
    {
      "cell_type": "code",
      "metadata": {
        "id": "umqxBbRJamdy",
        "colab": {
          "base_uri": "https://localhost:8080/"
        },
        "outputId": "1ab0bfc2-0a48-4060-cef9-8fdf84a5d337"
      },
      "source": [
        "linalg.det(m3)  # Computes the matrix determinant"
      ],
      "execution_count": null,
      "outputs": [
        {
          "output_type": "execute_result",
          "data": {
            "text/plain": [
              "43.99999999999997"
            ]
          },
          "metadata": {},
          "execution_count": 128
        }
      ]
    },
    {
      "cell_type": "markdown",
      "metadata": {
        "id": "g1STzgwqamdy"
      },
      "source": [
        "## Eigenvalues and eigenvectors\n",
        "The `eig` function computes the eigenvalues and eigenvectors of a square matrix:"
      ]
    },
    {
      "cell_type": "code",
      "metadata": {
        "id": "WCNU0i3vamdy",
        "colab": {
          "base_uri": "https://localhost:8080/"
        },
        "outputId": "a5f9cf7a-7647-4b54-fe34-0c2c3c4e066c"
      },
      "source": [
        "eigenvalues, eigenvectors = linalg.eig(m3)\n",
        "eigenvalues # λ"
      ],
      "execution_count": null,
      "outputs": [
        {
          "output_type": "execute_result",
          "data": {
            "text/plain": [
              "array([42.26600592, -0.35798416, -2.90802176])"
            ]
          },
          "metadata": {},
          "execution_count": 129
        }
      ]
    },
    {
      "cell_type": "code",
      "metadata": {
        "id": "3HZ2JQ7Qamdy",
        "colab": {
          "base_uri": "https://localhost:8080/"
        },
        "outputId": "8c6708bd-7852-42dd-aedc-1c8f8d2166d2"
      },
      "source": [
        "eigenvectors # v"
      ],
      "execution_count": null,
      "outputs": [
        {
          "output_type": "execute_result",
          "data": {
            "text/plain": [
              "array([[-0.08381182, -0.76283526, -0.18913107],\n",
              "       [-0.3075286 ,  0.64133975, -0.6853186 ],\n",
              "       [-0.94784057, -0.08225377,  0.70325518]])"
            ]
          },
          "metadata": {},
          "execution_count": 130
        }
      ]
    },
    {
      "cell_type": "markdown",
      "metadata": {
        "id": "mlubvjelamd1"
      },
      "source": [
        "## Diagonal and trace"
      ]
    },
    {
      "cell_type": "code",
      "metadata": {
        "id": "0oQVx10zamd1",
        "colab": {
          "base_uri": "https://localhost:8080/"
        },
        "outputId": "7e71c18b-e5bf-46c8-a3cf-4f3e4db25f2a"
      },
      "source": [
        "np.diag(m3)  # the values in the diagonal of m3 (top left to bottom right)"
      ],
      "execution_count": null,
      "outputs": [
        {
          "output_type": "execute_result",
          "data": {
            "text/plain": [
              "array([ 1,  7, 31])"
            ]
          },
          "metadata": {},
          "execution_count": 131
        }
      ]
    },
    {
      "cell_type": "code",
      "metadata": {
        "id": "e-HC_PBramd1",
        "colab": {
          "base_uri": "https://localhost:8080/"
        },
        "outputId": "c9730fdd-bb40-4367-a4d3-a77a8c8efb62"
      },
      "source": [
        "np.trace(m3)  # equivalent to np.diag(m3).sum()"
      ],
      "execution_count": null,
      "outputs": [
        {
          "output_type": "execute_result",
          "data": {
            "text/plain": [
              "39"
            ]
          },
          "metadata": {},
          "execution_count": 132
        }
      ]
    },
    {
      "cell_type": "markdown",
      "metadata": {
        "id": "pPwXFt2eamd1"
      },
      "source": [
        "## Solving a system of linear scalar equations"
      ]
    },
    {
      "cell_type": "markdown",
      "metadata": {
        "id": "AUX2Rughamd1"
      },
      "source": [
        "The `solve` function solves a system of linear scalar equations, such as:\n",
        "\n",
        "* $2x + 6y = 6$\n",
        "* $5x + 3y = -9$"
      ]
    },
    {
      "cell_type": "code",
      "metadata": {
        "id": "gs5Homw7amd1",
        "colab": {
          "base_uri": "https://localhost:8080/"
        },
        "outputId": "5b138eb2-1a0d-4eb8-bbd8-b8783abc3ad0"
      },
      "source": [
        "coeffs  = np.array([[2, 6], [5, 3]])\n",
        "depvars = np.array([6, -9])\n",
        "solution = linalg.solve(coeffs, depvars)\n",
        "solution"
      ],
      "execution_count": null,
      "outputs": [
        {
          "output_type": "execute_result",
          "data": {
            "text/plain": [
              "array([-3.,  2.])"
            ]
          },
          "metadata": {},
          "execution_count": 133
        }
      ]
    },
    {
      "cell_type": "markdown",
      "metadata": {
        "id": "ziQ1NGSqamd1"
      },
      "source": [
        "Let's check the solution:"
      ]
    },
    {
      "cell_type": "code",
      "metadata": {
        "id": "nYTNND4Mamd1",
        "colab": {
          "base_uri": "https://localhost:8080/"
        },
        "outputId": "b8d9c240-2746-4a2e-a4ba-5cb29b81afcf"
      },
      "source": [
        "coeffs.dot(solution), depvars  # yep, it's the same"
      ],
      "execution_count": null,
      "outputs": [
        {
          "output_type": "execute_result",
          "data": {
            "text/plain": [
              "(array([ 6., -9.]), array([ 6, -9]))"
            ]
          },
          "metadata": {},
          "execution_count": 134
        }
      ]
    },
    {
      "cell_type": "markdown",
      "metadata": {
        "id": "5w44a9Faamd2"
      },
      "source": [
        "Looks good! Another way to check the solution:"
      ]
    },
    {
      "cell_type": "code",
      "metadata": {
        "scrolled": true,
        "id": "0pP5UYfCamd2",
        "colab": {
          "base_uri": "https://localhost:8080/"
        },
        "outputId": "d1e5b034-2392-4b06-baa8-f50e48fe3ce3"
      },
      "source": [
        "np.allclose(coeffs.dot(solution), depvars)"
      ],
      "execution_count": null,
      "outputs": [
        {
          "output_type": "execute_result",
          "data": {
            "text/plain": [
              "True"
            ]
          },
          "metadata": {},
          "execution_count": 135
        }
      ]
    },
    {
      "cell_type": "markdown",
      "metadata": {
        "id": "U2giBLdjamd2"
      },
      "source": [
        "# Vectorization"
      ]
    },
    {
      "cell_type": "code",
      "metadata": {
        "colab": {
          "base_uri": "https://localhost:8080/"
        },
        "id": "SPH7pKE5g770",
        "outputId": "4d6fb5f6-59d5-426f-ebe2-7725e6a0b020"
      },
      "source": [
        "import math\n",
        "import timeit\n",
        "\n",
        "print(\"Time taken by vectorized operation : \", end = \"\")\n",
        "%timeit np.exp(np.arange(150))\n",
        "\n",
        "# non-vectorized operation\n",
        "print(\"Time taken by non-vectorized operation : \", end = \"\")\n",
        "%timeit [math.exp(item) for item in range(150)]"
      ],
      "execution_count": null,
      "outputs": [
        {
          "output_type": "stream",
          "name": "stdout",
          "text": [
            "Time taken by vectorized operation : The slowest run took 12.23 times longer than the fastest. This could mean that an intermediate result is being cached.\n",
            "100000 loops, best of 5: 4.44 µs per loop\n",
            "Time taken by non-vectorized operation : 10000 loops, best of 5: 24.4 µs per loop\n"
          ]
        }
      ]
    },
    {
      "cell_type": "markdown",
      "metadata": {
        "id": "xYFC2sdfamd3"
      },
      "source": [
        "# Saving and loading\n",
        "NumPy makes it easy to save and load `ndarray`s in binary or text format.\n",
        "\n",
        "## Binary `.npy` format\n",
        "Let's create a random array and save it."
      ]
    },
    {
      "cell_type": "code",
      "metadata": {
        "scrolled": true,
        "id": "wpUTTbCzamd3",
        "colab": {
          "base_uri": "https://localhost:8080/"
        },
        "outputId": "9214778c-aa96-48ac-b057-b92fe6d6cf5d"
      },
      "source": [
        "a = np.random.rand(10_000_000)\n",
        "a.shape"
      ],
      "execution_count": null,
      "outputs": [
        {
          "output_type": "execute_result",
          "data": {
            "text/plain": [
              "(10000000,)"
            ]
          },
          "metadata": {},
          "execution_count": 209
        }
      ]
    },
    {
      "cell_type": "code",
      "metadata": {
        "id": "mbuAuAnKamd3",
        "colab": {
          "base_uri": "https://localhost:8080/"
        },
        "outputId": "3f753a82-b441-4ee3-cfbc-5ce78740f9de"
      },
      "source": [
        "%timeit np.save(\"my_array\", a)"
      ],
      "execution_count": null,
      "outputs": [
        {
          "output_type": "stream",
          "name": "stdout",
          "text": [
            "10 loops, best of 5: 66.4 ms per loop\n"
          ]
        }
      ]
    },
    {
      "cell_type": "markdown",
      "metadata": {
        "id": "1YO16pz6amd3"
      },
      "source": [
        "Done! Since the file name contains no file extension was provided, NumPy automatically added `.npy`. Let's take a peek at the file content:"
      ]
    },
    {
      "cell_type": "code",
      "metadata": {
        "id": "Dnro2nsQamd3"
      },
      "source": [
        "with open(\"my_array.npy\", \"rb\") as f:\n",
        "    content = f.read()\n",
        "\n",
        "content"
      ],
      "execution_count": null,
      "outputs": []
    },
    {
      "cell_type": "markdown",
      "metadata": {
        "id": "M5WYtDp8amd4"
      },
      "source": [
        "To load this file into a NumPy array, simply call `load`:"
      ]
    },
    {
      "cell_type": "code",
      "metadata": {
        "id": "nwunVtXwamd4",
        "colab": {
          "base_uri": "https://localhost:8080/"
        },
        "outputId": "541bea45-434a-4607-ccf8-8c0e0406ad41"
      },
      "source": [
        "%time\n",
        "a_loaded = np.load(\"my_array.npy\")\n",
        "a_loaded"
      ],
      "execution_count": null,
      "outputs": [
        {
          "output_type": "stream",
          "name": "stdout",
          "text": [
            "CPU times: user 2 µs, sys: 0 ns, total: 2 µs\n",
            "Wall time: 14.3 µs\n"
          ]
        },
        {
          "output_type": "execute_result",
          "data": {
            "text/plain": [
              "array([0.86584395, 0.18433152, 0.21386501, ..., 0.36390811, 0.98271289,\n",
              "       0.72836797])"
            ]
          },
          "metadata": {},
          "execution_count": 212
        }
      ]
    },
    {
      "cell_type": "markdown",
      "metadata": {
        "id": "x7XNGN9Famd4"
      },
      "source": [
        "## Text format\n",
        "Let's try saving the array in text format:"
      ]
    },
    {
      "cell_type": "code",
      "metadata": {
        "id": "9OdXYLUsamd4"
      },
      "source": [
        "%timeit np.savetxt(\"my_array.csv\", a)"
      ],
      "execution_count": null,
      "outputs": []
    },
    {
      "cell_type": "markdown",
      "metadata": {
        "id": "6RKrW_4vamd4"
      },
      "source": [
        "Now let's look at the file content:"
      ]
    },
    {
      "cell_type": "code",
      "metadata": {
        "id": "99dUvuf5amd4",
        "colab": {
          "base_uri": "https://localhost:8080/"
        },
        "outputId": "4b84195f-0e85-407f-9f6b-9998d56733f1"
      },
      "source": [
        "with open(\"my_array.csv\", \"rt\") as f:\n",
        "    print(f.read())"
      ],
      "execution_count": null,
      "outputs": [
        {
          "output_type": "stream",
          "name": "stdout",
          "text": [
            "2.807538713693464860e-01 4.207000327449206267e-02 8.243938904160836856e-01 1.035226730819013286e-01\n",
            "8.316162530432392730e-01 3.097220308356418705e-02 8.953469188771480125e-01 4.329523851152311531e-01\n",
            "4.194812924504565110e-01 8.472570450896508287e-01 8.336093755049046594e-01 2.762636421121910102e-01\n",
            "3.844806454615861124e-01 5.308204261361119114e-01 7.346605187300214723e-02 7.674047537689498988e-02\n",
            "\n"
          ]
        }
      ]
    },
    {
      "cell_type": "markdown",
      "metadata": {
        "id": "_0ey14m_amd4"
      },
      "source": [
        "This is a CSV file with tabs as delimiters. You can set a different delimiter:"
      ]
    },
    {
      "cell_type": "code",
      "metadata": {
        "collapsed": true,
        "id": "hgZRTbVwamd5"
      },
      "source": [
        "np.savetxt(\"my_array.csv\", a, delimiter=\",\")"
      ],
      "execution_count": null,
      "outputs": []
    },
    {
      "cell_type": "markdown",
      "metadata": {
        "id": "hejL_835amd6"
      },
      "source": [
        "To load this file, just use `loadtxt`:"
      ]
    },
    {
      "cell_type": "code",
      "metadata": {
        "id": "O3BAG9bZamd6",
        "colab": {
          "base_uri": "https://localhost:8080/"
        },
        "outputId": "98c534ba-4106-42f4-e77c-730a760b9fa3"
      },
      "source": [
        "a_loaded = np.loadtxt(\"my_array.csv\", delimiter=\",\")\n",
        "a_loaded"
      ],
      "execution_count": null,
      "outputs": [
        {
          "output_type": "execute_result",
          "data": {
            "text/plain": [
              "array([[0.28075387, 0.04207   , 0.82439389, 0.10352267],\n",
              "       [0.83161625, 0.0309722 , 0.89534692, 0.43295239],\n",
              "       [0.41948129, 0.84725705, 0.83360938, 0.27626364],\n",
              "       [0.38448065, 0.53082043, 0.07346605, 0.07674048]])"
            ]
          },
          "metadata": {},
          "execution_count": 144
        }
      ]
    }
  ]
}